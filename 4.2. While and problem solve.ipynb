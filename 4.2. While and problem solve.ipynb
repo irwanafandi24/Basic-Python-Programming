{
 "cells": [
  {
   "cell_type": "code",
   "execution_count": 3,
   "metadata": {},
   "outputs": [
    {
     "name": "stdout",
     "output_type": "stream",
     "text": [
      "0\n",
      "1\n",
      "2\n",
      "3\n"
     ]
    }
   ],
   "source": [
    "#while is looping with condition,looping keep run as long as that condition is true, and stop the loop when condition is false\n",
    "tmp = 0\n",
    "while tmp < 4 : #last loop when condition 3 < 4\n",
    "    print(tmp)\n",
    "    tmp +=1"
   ]
  },
  {
   "cell_type": "code",
   "execution_count": 5,
   "metadata": {},
   "outputs": [
    {
     "name": "stdout",
     "output_type": "stream",
     "text": [
      "('Even number: ', 1)\n",
      "('Even number: ', 3)\n",
      "('Even number: ', 5)\n",
      "('Even number: ', 7)\n",
      "('Even number: ', 9)\n"
     ]
    }
   ],
   "source": [
    "x = 1\n",
    "while x < 10: #last loop when condition 9 < 10\n",
    "    print (\"Even number: \",x)\n",
    "    x+=2"
   ]
  },
  {
   "cell_type": "code",
   "execution_count": 1,
   "metadata": {},
   "outputs": [
    {
     "name": "stdout",
     "output_type": "stream",
     "text": [
      "4\n",
      "3\n",
      "2\n",
      "1\n"
     ]
    }
   ],
   "source": [
    "num = [4,3,2,1]\n",
    "i = 0\n",
    "while i < len(num): #len(num) = 4\n",
    "    print(num[i])\n",
    "    i+=1"
   ]
  },
  {
   "cell_type": "code",
   "execution_count": 6,
   "metadata": {},
   "outputs": [
    {
     "name": "stdout",
     "output_type": "stream",
     "text": [
      "10\n",
      "8\n",
      "6\n",
      "4\n",
      "2\n"
     ]
    }
   ],
   "source": [
    "tmp = 10\n",
    "while tmp>0: #last loop when condition 2 > 0, if 0 > 0 == false\n",
    "    print(tmp)\n",
    "    tmp -= 2 #decrement by 2"
   ]
  },
  {
   "cell_type": "code",
   "execution_count": 3,
   "metadata": {},
   "outputs": [
    {
     "name": "stdout",
     "output_type": "stream",
     "text": [
      "0   ===   10\n",
      "1   ===   9\n",
      "2   ===   8\n",
      "3   ===   7\n",
      "4   ===   6\n",
      "5   ===   5\n",
      "6   ===   4\n",
      "7   ===   3\n"
     ]
    }
   ],
   "source": [
    "dec = 10\n",
    "inc = 0\n",
    "while inc > 9 or dec> 2: #loop with 2 condition using or. So it will stop when both of the conditioans are false\n",
    "    print (inc,\"  ===  \", dec)\n",
    "    inc +=1\n",
    "    dec -=1"
   ]
  },
  {
   "cell_type": "code",
   "execution_count": 6,
   "metadata": {},
   "outputs": [
    {
     "name": "stdout",
     "output_type": "stream",
     "text": [
      "Enter the number: 2\n",
      "Enter the number: 5\n",
      "Enter the number: 9\n",
      "Enter the number: 11\n",
      "Yhay... You got the key, it is:  11\n"
     ]
    }
   ],
   "source": [
    "num = 0\n",
    "while num < 10:\n",
    "    num = int(input(\"Enter the number: \"))#we will keep input the number until num >= 10\n",
    "print(\"Yhay... You got the key, it is: \", num)"
   ]
  },
  {
   "cell_type": "code",
   "execution_count": 14,
   "metadata": {},
   "outputs": [
    {
     "name": "stdout",
     "output_type": "stream",
     "text": [
      "Random number genereted: 0\n",
      "Random number genereted: 8\n",
      "Random number genereted: 10\n"
     ]
    }
   ],
   "source": [
    "import random\n",
    "num = random.randint(0,10) #it will generate the number start from 0 till 10\n",
    "print(\"Random number genereted: \"+str(num))\n",
    "while num != 10 : #as long as number not equals 10, the random function will keep run\n",
    "    num = random.randint(0,10)\n",
    "    print(\"Random number genereted: \"+str(num))\n",
    "    if num % 3 == 0: #as long as number mod 3 is not equals 0, it will continue looping on \"while\", but when equals to 0 it will stop the loop \n",
    "        print(\"Break because the number devided by 3\")\n",
    "        break\n",
    "#in this code there are 2 condition to stop the looping, while condition and break"
   ]
  },
  {
   "cell_type": "code",
   "execution_count": 55,
   "metadata": {},
   "outputs": [
    {
     "name": "stdout",
     "output_type": "stream",
     "text": [
      "('skip ', 9)\n",
      "1\n",
      "2\n",
      "1\n",
      "('break ', 10)\n",
      "('pass number: ', 3)\n"
     ]
    }
   ],
   "source": [
    "count = 0\n",
    "while True: #it will always loop\n",
    "    num = random.randint(0,10)\n",
    "    if num % 5 == 0:\n",
    "        print(\"break \", num)\n",
    "        break #break event\n",
    "    if num % 3 == 0:\n",
    "        print(\"skip \",num)\n",
    "        continue #continue so will pass the count\n",
    "    count +=1\n",
    "    print(num)\n",
    "print(\"pass number: \",count)"
   ]
  },
  {
   "cell_type": "markdown",
   "metadata": {},
   "source": [
    "# To exercise our logic"
   ]
  },
  {
   "cell_type": "code",
   "execution_count": 63,
   "metadata": {},
   "outputs": [
    {
     "name": "stdout",
     "output_type": "stream",
     "text": [
      "Write number1: 4\n",
      "write number2: 4\n",
      "Sum of 4 + 4 = 8\n"
     ]
    }
   ],
   "source": [
    "inp1 = int(input(\"Write number1: \")) #transform the input type to int and save to the variable\n",
    "inp2 = int(input(\"write number2: \"))\n",
    "print('Sum of '+str(inp1)+' + '+str(inp2)+' = '+ str(inp1+inp2))"
   ]
  },
  {
   "cell_type": "code",
   "execution_count": 69,
   "metadata": {},
   "outputs": [
    {
     "name": "stdout",
     "output_type": "stream",
     "text": [
      "How much: 3\n",
      "Hello Irwan\n",
      "Hello Irwan\n",
      "Hello Irwan\n"
     ]
    }
   ],
   "source": [
    "times = int(input(\"How much: \"))\n",
    "for i in range (times):\n",
    "    print(\"Hello Irwan\")"
   ]
  },
  {
   "cell_type": "code",
   "execution_count": 71,
   "metadata": {},
   "outputs": [],
   "source": [
    "while times>0:\n",
    "    print('Hellow irwan')\n",
    "    times-=1 #decrement by 1"
   ]
  },
  {
   "cell_type": "code",
   "execution_count": 74,
   "metadata": {},
   "outputs": [
    {
     "name": "stdout",
     "output_type": "stream",
     "text": [
      "Number: 10\n",
      "1X10=10\n",
      "2X10=20\n",
      "3X10=30\n",
      "4X10=40\n",
      "5X10=50\n",
      "6X10=60\n",
      "7X10=70\n",
      "8X10=80\n",
      "9X10=90\n",
      "10X10=100\n"
     ]
    }
   ],
   "source": [
    "num = int(input(\"Number: \"))\n",
    "for i in range (10): #looping with operation, 0-9\n",
    "    s = i+1\n",
    "    print(str(s)+'X'+str(num)+'='+str(s*num)) "
   ]
  },
  {
   "cell_type": "code",
   "execution_count": 81,
   "metadata": {},
   "outputs": [
    {
     "name": "stdout",
     "output_type": "stream",
     "text": [
      "Number 1 : 5\n",
      "Number 2 : 2\n",
      "Calculator\n",
      "5+2=7\n",
      "5-2=3\n",
      "5/2=2.5\n",
      "5*2=10\n"
     ]
    }
   ],
   "source": [
    "a = int(input('Number 1 : '))\n",
    "b = int(input('Number 2 : '))\n",
    "print('Calculator')\n",
    "print(str(a)+'+'+str(b)+'='+str(a+b))\n",
    "print(str(a)+'-'+str(b)+'='+str(a-b))\n",
    "print(str(a)+'/'+str(b)+'='+str(float(a)/float(b)))\n",
    "print(str(a)+'*'+str(b)+'='+str(a*b))"
   ]
  },
  {
   "cell_type": "code",
   "execution_count": 15,
   "metadata": {},
   "outputs": [
    {
     "name": "stdout",
     "output_type": "stream",
     "text": [
      "Number 1 : 10\n",
      "Number 2 : 5\n",
      "operator: *\n",
      "10*5=50\n"
     ]
    }
   ],
   "source": [
    "a = int(input('Number 1 : ')) #input 1\n",
    "b = int(input('Number 2 : ')) #input 2\n",
    "opr = input(\"operator: \")     #input for mathematic operation\n",
    "if opr == \"+\":\n",
    "    print(str(a)+'+'+str(b)+'='+str(a+b))\n",
    "elif opr == \"-\":\n",
    "    print(str(a)+'-'+str(b)+'='+str(a-b))\n",
    "elif opr == \"/\":\n",
    "    print(str(a)+'/'+str(b)+'='+str(float(a)/float(b)))\n",
    "elif opr == \"*\":\n",
    "    print(str(a)+'*'+str(b)+'='+str(a*b))\n",
    "else:\n",
    "    print(\"There isn't this operator (\"+opr+\") in our program\")"
   ]
  },
  {
   "cell_type": "code",
   "execution_count": 18,
   "metadata": {},
   "outputs": [
    {
     "name": "stdout",
     "output_type": "stream",
     "text": [
      "Input the string: mama\n",
      "amam\n"
     ]
    }
   ],
   "source": [
    "#Reverse string == flip the word ==> simple code kata[::-1] but try to use our logic\n",
    "kata = input(\"Input the string: \")\n",
    "count, reverse = len(kata)-1, \"\" #why len-1 because it gona be out of range, the last idx cata = len-1\n",
    "while count >= 0:\n",
    "    reverse +=kata[count] #insert the character one by one from the last char\n",
    "    count -=1\n",
    "print(reverse)"
   ]
  },
  {
   "cell_type": "code",
   "execution_count": 22,
   "metadata": {},
   "outputs": [
    {
     "name": "stdout",
     "output_type": "stream",
     "text": [
      "Kata: kasur rusak\n",
      "polindrome\n"
     ]
    }
   ],
   "source": [
    "#Polindrome is a word, number, phrase, or other sequence of characters which reads the same backward as forward\n",
    "kata = input(\"Insert sentence: \")\n",
    "kata,tmp,result,i = kata.lower(), len(kata)-1, \"polindrome\",0\n",
    "while tmp >= 0:\n",
    "    if kata[tmp] != kata[i]: #just compare last character with first character, if different break\n",
    "        result = \"not polindrome\"\n",
    "        break #to dicrease the complexity\n",
    "    tmp-=1\n",
    "    i+=1\n",
    "print(result)"
   ]
  },
  {
   "cell_type": "code",
   "execution_count": 24,
   "metadata": {},
   "outputs": [
    {
     "name": "stdout",
     "output_type": "stream",
     "text": [
      "Insert sentence: kubis sibuk\n",
      "polindrom\n"
     ]
    }
   ],
   "source": [
    "#Module version\n",
    "kata = input(\"Insert sentence: \")\n",
    "kata = kata.lower()\n",
    "tmp = len(kata)-1\n",
    "rv = ''\n",
    "while tmp >= 0:\n",
    "    rv +=kata[tmp]\n",
    "    tmp -=1\n",
    "if rv == kata:\n",
    "    print(\"polindrom\")\n",
    "else:\n",
    "    print(\"not polindrom\")\n",
    "#the difference is, it will loop until all character readed. So the complexity more then my code"
   ]
  },
  {
   "cell_type": "code",
   "execution_count": 26,
   "metadata": {},
   "outputs": [
    {
     "name": "stdout",
     "output_type": "stream",
     "text": [
      "64\n"
     ]
    }
   ],
   "source": [
    "x = [10,24,1,23,16,53,45,34,64,23,54,34] #get the greater value from the list\n",
    "tmp = x[0]\n",
    "for i in x:\n",
    "    if tmp < i:\n",
    "        tmp = i\n",
    "print(tmp)"
   ]
  },
  {
   "cell_type": "code",
   "execution_count": 9,
   "metadata": {},
   "outputs": [
    {
     "name": "stdout",
     "output_type": "stream",
     "text": [
      "1\n"
     ]
    }
   ],
   "source": [
    "tmp = x[0] #get smaller value from list\n",
    "for i in x:\n",
    "    if tmp>i:\n",
    "        tmp = i\n",
    "print(tmp) "
   ]
  },
  {
   "cell_type": "code",
   "execution_count": 28,
   "metadata": {},
   "outputs": [
    {
     "name": "stdout",
     "output_type": "stream",
     "text": [
      "31.75\n",
      "average: 31.75\n"
     ]
    }
   ],
   "source": [
    "#calculate average with sum and without sum\n",
    "tmp = 0\n",
    "count = 0\n",
    "print(float(sum(x))/float(len(x)))\n",
    "for i in x:\n",
    "    tmp +=i\n",
    "    count +=1\n",
    "print('average: '+str(float(tmp)/float(count)))"
   ]
  },
  {
   "cell_type": "code",
   "execution_count": 21,
   "metadata": {},
   "outputs": [
    {
     "name": "stdout",
     "output_type": "stream",
     "text": [
      "Input the number: 30\n",
      "5\n"
     ]
    }
   ],
   "source": [
    "x = int(input(\"Input the number: \"))\n",
    "if x % 5 == 0 and x % 7 == 0 :\n",
    "    print(\"The number %s is visible devided by 7,5\" %x)\n",
    "elif x % 5 == 0:\n",
    "    print(\"5\")\n",
    "elif x % 7 == 0:\n",
    "    print(\"7\")\n",
    "else:\n",
    "    print(\"not both of them\")"
   ]
  },
  {
   "cell_type": "code",
   "execution_count": 29,
   "metadata": {},
   "outputs": [
    {
     "name": "stdout",
     "output_type": "stream",
     "text": [
      "Input the sentence: Pandemi make me scared\n",
      "count : 4\n"
     ]
    }
   ],
   "source": [
    "#count character inside the sentence\n",
    "stc = input(\"Input the sentence: \")\n",
    "count = 0\n",
    "for i in stc.lower():\n",
    "    if i == \"e\":\n",
    "        count += 1\n",
    "        print('count : '+str(count))"
   ]
  },
  {
   "cell_type": "code",
   "execution_count": 31,
   "metadata": {},
   "outputs": [
    {
     "name": "stdout",
     "output_type": "stream",
     "text": [
      "Hellow Nanang you got value 92 and it grater than 90\n",
      "Hellow Rudi you got value 96 and it grater than 90\n",
      "Hellow Mira you got value 91 and it grater than 90\n"
     ]
    }
   ],
   "source": [
    "#for in dictionary with condition\n",
    "stds = {\n",
    "    \"Nanang\":92,\n",
    "    \"Rudi\": 96,\n",
    "    \"Fuad\": 60,\n",
    "    \"Kuswan\": 50,\n",
    "    \"Mira\": 91\n",
    "}\n",
    "count = 0\n",
    "for i in stds:\n",
    "    if stds[i] > 90:\n",
    "        print(\"Hellow %s\"\" you got value %s and it grater than 90\" %(i, stds[i]))"
   ]
  },
  {
   "cell_type": "code",
   "execution_count": 32,
   "metadata": {},
   "outputs": [
    {
     "name": "stdout",
     "output_type": "stream",
     "text": [
      "{'Nanang': 92, 'Rudi': 96, 'Fuad': 70, 'Kuswan': 60, 'Mira': 91}\n"
     ]
    }
   ],
   "source": [
    "#increase std value if the value equals to 50 or 60\n",
    "for name, val in stds.items():\n",
    "    if val == 50 or val == 60:\n",
    "        stds[name] += 10\n",
    "print (stds)"
   ]
  },
  {
   "cell_type": "code",
   "execution_count": 42,
   "metadata": {},
   "outputs": [
    {
     "name": "stdout",
     "output_type": "stream",
     "text": [
      "Input the word: \"HOW are You\"\n",
      "5\n"
     ]
    }
   ],
   "source": [
    "#count number of vowel\n",
    "vowel = ['a','i','u','e','o']\n",
    "count = 0\n",
    "stc = input(\"Input the word: \")\n",
    "for i in stc.lower():\n",
    "    if i in vowel: #chack is the character(i) is exist in array vowel\n",
    "        count += 1\n",
    "print(count)"
   ]
  },
  {
   "cell_type": "code",
   "execution_count": 34,
   "metadata": {},
   "outputs": [
    {
     "name": "stdout",
     "output_type": "stream",
     "text": [
      "Input the student name: Mashitah\n"
     ]
    },
    {
     "data": {
      "text/plain": [
       "{'Mashitah': 0}"
      ]
     },
     "execution_count": 34,
     "metadata": {},
     "output_type": "execute_result"
    }
   ],
   "source": [
    "#arr to dict\n",
    "std = input (\"Input the student name: \")\n",
    "arrStd = std.split(',')\n",
    "dictOfWords = dict.fromkeys(arrStd , 0)\n",
    "dictOfWords"
   ]
  },
  {
   "cell_type": "code",
   "execution_count": 36,
   "metadata": {},
   "outputs": [
    {
     "name": "stdout",
     "output_type": "stream",
     "text": [
      "Input the student name: Mohamad Sanusi, dwi, wibowo\n"
     ]
    },
    {
     "data": {
      "text/plain": [
       "{'Mohamad Sanusi': 0, 'dwi': 0, 'wibowo': 0}"
      ]
     },
     "execution_count": 36,
     "metadata": {},
     "output_type": "execute_result"
    }
   ],
   "source": [
    "#arr to dict\n",
    "std = input (\"Input the student name: \")\n",
    "arrStd = std.split(',')\n",
    "val = {}\n",
    "for user in arrStd:\n",
    "    val[user.strip()]= 0 #strip use for erese the space\n",
    "val"
   ]
  },
  {
   "cell_type": "code",
   "execution_count": 54,
   "metadata": {},
   "outputs": [
    {
     "name": "stdout",
     "output_type": "stream",
     "text": [
      "Enter the word: \"mina\"\n",
      "Enter the word: \"Mino\"\n",
      "Enter the word: \"ExIt\"\n"
     ]
    },
    {
     "data": {
      "text/plain": [
       "['mina', 'mino']"
      ]
     },
     "execution_count": 54,
     "metadata": {},
     "output_type": "execute_result"
    }
   ],
   "source": [
    "#insert data to array from keyboard input\n",
    "nama = []\n",
    "value = \"\"\n",
    "while value != \"exit\":\n",
    "    value = input(\"Enter the word: \").lower()\n",
    "    if value != \"exit\":\n",
    "        nama.append(value)\n",
    "nama"
   ]
  },
  {
   "cell_type": "code",
   "execution_count": 37,
   "metadata": {},
   "outputs": [
    {
     "name": "stdout",
     "output_type": "stream",
     "text": [
      "Enter the word: Angel\n",
      "Enter the word: What\n",
      "Enter the word: Does\n",
      "Enter the word: You wait for..?\n",
      "Enter the word: Exit\n"
     ]
    },
    {
     "data": {
      "text/plain": [
       "['angel', 'what', 'does', 'you wait for..?']"
      ]
     },
     "execution_count": 37,
     "metadata": {},
     "output_type": "execute_result"
    }
   ],
   "source": [
    "nama = []\n",
    "while True:\n",
    "    value = input(\"Enter the word: \").lower()\n",
    "    if value == \"exit\":\n",
    "        break\n",
    "    nama.append(value)\n",
    "nama\n",
    "    "
   ]
  },
  {
   "cell_type": "code",
   "execution_count": 1,
   "metadata": {},
   "outputs": [
    {
     "name": "stdout",
     "output_type": "stream",
     "text": [
      "Number: 5\n",
      "120\n"
     ]
    }
   ],
   "source": [
    "#factorial\n",
    "num = int(input(\"Number: \"))\n",
    "fac = 1\n",
    "for i in range (1,num+1):\n",
    "    fac *= i\n",
    "print(fac)"
   ]
  },
  {
   "cell_type": "code",
   "execution_count": 4,
   "metadata": {},
   "outputs": [
    {
     "name": "stdout",
     "output_type": "stream",
     "text": [
      "Number: 20\n",
      "20 10 5 4 2 1\n"
     ]
    }
   ],
   "source": [
    "#factor of number by me\n",
    "num = int(input(\"Number: \"))\n",
    "x = num\n",
    "while num > 0:\n",
    "    if x % num == 0:\n",
    "        print(num),\n",
    "    num -=1"
   ]
  },
  {
   "cell_type": "code",
   "execution_count": 6,
   "metadata": {},
   "outputs": [
    {
     "name": "stdout",
     "output_type": "stream",
     "text": [
      "Number: 40\n",
      "1 2 4 5 8 10 20 40\n"
     ]
    }
   ],
   "source": [
    "#factor of number by module\n",
    "num = int(input(\"Number: \"))\n",
    "factor = 1\n",
    "while factor <= num/2: #more optimal\n",
    "    if num % factor == 0:\n",
    "        print(factor),\n",
    "    factor +=1\n",
    "print(num) #the key is this, faktor will never more than num/2+1"
   ]
  },
  {
   "cell_type": "code",
   "execution_count": 39,
   "metadata": {},
   "outputs": [
    {
     "name": "stdout",
     "output_type": "stream",
     "text": [
      "Number: 4\n",
      "Not Prime number\n"
     ]
    }
   ],
   "source": [
    "#prime or not\n",
    "num = int(input(\"Number: \"))\n",
    "if num == 0 or num == 1:\n",
    "    print(\"not prime number\")\n",
    "else:\n",
    "    factor = 2\n",
    "    while factor <= num/2: #more optimal\n",
    "        if num % factor == 0:\n",
    "            print(\"Not Prime number\"),\n",
    "            factor = num\n",
    "            break\n",
    "        factor +=1\n",
    "    if num == 2:\n",
    "        print(\"prime number\")\n",
    "    if factor != num:\n",
    "        print(\"prime number\")"
   ]
  },
  {
   "cell_type": "code",
   "execution_count": 33,
   "metadata": {},
   "outputs": [
    {
     "name": "stdout",
     "output_type": "stream",
     "text": [
      "Number: 2\n",
      "prime\n"
     ]
    }
   ],
   "source": [
    "#prime or not\n",
    "num = int(input(\"Number: \"))\n",
    "factor = 1\n",
    "prime = True\n",
    "if num == 0 or num == 1:\n",
    "    prime = False\n",
    "while factor <= num/2:\n",
    "    factor +=1\n",
    "    if num % factor == 0 and num != 2:\n",
    "        prime = False\n",
    "        break\n",
    "if prime:\n",
    "    print(\"prime\")\n",
    "else:\n",
    "    print(\"Not prime\")"
   ]
  },
  {
   "cell_type": "code",
   "execution_count": 16,
   "metadata": {},
   "outputs": [
    {
     "name": "stdout",
     "output_type": "stream",
     "text": [
      "[1, 2, 3, 4, 6, 5, 7, 8]\n"
     ]
    }
   ],
   "source": [
    "#distict number\n",
    "numbers = [1, 2, 3, 4, 3, 2, 1, 6, 5, 7, 8]\n",
    "y = []\n",
    "for i in numbers:\n",
    "    if i not in y :\n",
    "        y.append(i)\n",
    "print(y)"
   ]
  },
  {
   "cell_type": "code",
   "execution_count": 33,
   "metadata": {},
   "outputs": [
    {
     "name": "stdout",
     "output_type": "stream",
     "text": [
      "[1, 2, 2, 2, 3, 3, 4, 5, 6, 7, 8, 10, 11, 12, 15]\n"
     ]
    }
   ],
   "source": [
    "#sorting from min\n",
    "#find the minimum from number, remove put in blank array\n",
    "numbers = [10, 2, 3, 4, 3, 2, 1, 6, 5, 7, 8,2,12,11,15]\n",
    "sort = []\n",
    "for i in range (0,len(numbers)):\n",
    "    min = numbers[0]\n",
    "    for j in range (0,len(numbers)):\n",
    "        if min >= numbers[j]:\n",
    "            min = numbers[j]\n",
    "    numbers.remove(min)\n",
    "    sort.append(min)\n",
    "print(sort)"
   ]
  },
  {
   "cell_type": "code",
   "execution_count": 7,
   "metadata": {},
   "outputs": [
    {
     "name": "stdout",
     "output_type": "stream",
     "text": [
      "Number: 345\n",
      "543\n"
     ]
    }
   ],
   "source": [
    "#inverse int\n",
    "x = int(input(\"Number: \"))\n",
    "inverse = ''\n",
    "while x > 0:\n",
    "    c = x % 10 #mod eparation\n",
    "    inverse += str(c)\n",
    "    x //=10 #div operation\n",
    "print(inverse) #string "
   ]
  },
  {
   "cell_type": "code",
   "execution_count": 1,
   "metadata": {},
   "outputs": [
    {
     "name": "stdout",
     "output_type": "stream",
     "text": [
      "Number: 123\n",
      "321\n"
     ]
    }
   ],
   "source": [
    "#inverse int by comp\n",
    "x = int(input(\"Number: \"))\n",
    "inverse = 0\n",
    "while x > 0:\n",
    "    num = x % 10\n",
    "    inverse = inverse*10+num #logic 0+4 = 4*10+sisa = 41*10+sisa =412\n",
    "    x//=10\n",
    "print(inverse) #int"
   ]
  }
 ],
 "metadata": {
  "kernelspec": {
   "display_name": "Python 3",
   "language": "python",
   "name": "python3"
  },
  "language_info": {
   "codemirror_mode": {
    "name": "ipython",
    "version": 3
   },
   "file_extension": ".py",
   "mimetype": "text/x-python",
   "name": "python",
   "nbconvert_exporter": "python",
   "pygments_lexer": "ipython3",
   "version": "3.7.6"
  }
 },
 "nbformat": 4,
 "nbformat_minor": 2
}

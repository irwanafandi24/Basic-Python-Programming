{
 "cells": [
  {
   "cell_type": "code",
   "execution_count": 2,
   "metadata": {},
   "outputs": [
    {
     "name": "stdout",
     "output_type": "stream",
     "text": [
      "I love u\n"
     ]
    }
   ],
   "source": [
    "num = 3 #initiation\n",
    "if num <= 5: #if condition return true because 3 <=5 == true\n",
    "    print(\"I love u\")"
   ]
  },
  {
   "cell_type": "code",
   "execution_count": 4,
   "metadata": {},
   "outputs": [
    {
     "name": "stdout",
     "output_type": "stream",
     "text": [
      "greater than 8\n"
     ]
    }
   ],
   "source": [
    "nums = 10\n",
    "if nums <=8:  #if else condition return false becase 10 <= 8 == false\n",
    "    print(\"lest then equal to 8\")\n",
    "else:\n",
    "    print(\"greater than 8\")"
   ]
  },
  {
   "cell_type": "code",
   "execution_count": 12,
   "metadata": {},
   "outputs": [
    {
     "name": "stdout",
     "output_type": "stream",
     "text": [
      "Adult\n"
     ]
    }
   ],
   "source": [
    "age = 25\n",
    "\n",
    "if age <=5:  #multiple condition,\n",
    "    print (\"baby\")\n",
    "elif age>5 and age<12:\n",
    "    print (\"children\")\n",
    "elif age>=12 and age<21:\n",
    "    print(\"Teenager\")\n",
    "elif age>=21 and age <40:\n",
    "    print(\"Adult\")\n",
    "else:\n",
    "    print(\"Old\")"
   ]
  },
  {
   "cell_type": "code",
   "execution_count": 8,
   "metadata": {},
   "outputs": [],
   "source": [
    "active = False"
   ]
  },
  {
   "cell_type": "code",
   "execution_count": 10,
   "metadata": {},
   "outputs": [
    {
     "name": "stdout",
     "output_type": "stream",
     "text": [
      "Aktifasi akun\n"
     ]
    }
   ],
   "source": [
    "if not active: #return true\n",
    "    print(\"Aktifasi akun\")"
   ]
  },
  {
   "cell_type": "code",
   "execution_count": 14,
   "metadata": {},
   "outputs": [
    {
     "name": "stdout",
     "output_type": "stream",
     "text": [
      "Cocok untuk nikah\n"
     ]
    }
   ],
   "source": [
    "if age <=27 and not active: #both condition must true \n",
    "    print (\"Cocok untuk nikah\")"
   ]
  },
  {
   "cell_type": "code",
   "execution_count": 16,
   "metadata": {},
   "outputs": [
    {
     "name": "stdout",
     "output_type": "stream",
     "text": [
      "or need one to return true, all the data will return true\n"
     ]
    }
   ],
   "source": [
    "if age == 40 or not active: #one of condition true, it will return true\n",
    "    print(\"or need one to return true, all the data will return true\")"
   ]
  },
  {
   "cell_type": "code",
   "execution_count": 19,
   "metadata": {},
   "outputs": [
    {
     "name": "stdout",
     "output_type": "stream",
     "text": [
      "The number is even 0\n"
     ]
    }
   ],
   "source": [
    "x = 10\n",
    "if x % 2 == 0: #mode\n",
    "    print(\"The number is even \"+ str(x%2))\n",
    "else:\n",
    "    print(\"The number is odd\")"
   ]
  },
  {
   "cell_type": "code",
   "execution_count": 22,
   "metadata": {},
   "outputs": [
    {
     "name": "stdout",
     "output_type": "stream",
     "text": [
      "x equals to 10\n"
     ]
    }
   ],
   "source": [
    "if x == 10:\n",
    "    print (\"x equals to 10\")"
   ]
  },
  {
   "cell_type": "code",
   "execution_count": 24,
   "metadata": {},
   "outputs": [
    {
     "name": "stdout",
     "output_type": "stream",
     "text": [
      "x not equal to 5\n"
     ]
    }
   ],
   "source": [
    "if x != 5:\n",
    "    print(\"x not equal to 5\")"
   ]
  },
  {
   "cell_type": "code",
   "execution_count": 29,
   "metadata": {},
   "outputs": [
    {
     "name": "stdout",
     "output_type": "stream",
     "text": [
      "pencuri\n"
     ]
    }
   ],
   "source": [
    "nama = [\"esa\",\"wok\",\"alam\",\"nofal\",\"aldi\",\"evan\",\"afan\"]\n",
    "xx = \"rudi\"\n",
    "if xx in nama: #condition is data xx is exist in array nama\n",
    "    print(\"There is afan in the list\")\n",
    "else:\n",
    "    print(\"pencuri\")"
   ]
  },
  {
   "cell_type": "code",
   "execution_count": 32,
   "metadata": {},
   "outputs": [
    {
     "name": "stdout",
     "output_type": "stream",
     "text": [
      "The score of Burhan is 89\n"
     ]
    }
   ],
   "source": [
    "scr = {\n",
    "    \"Sumi\": 90,\n",
    "    \"Yati\": 88,\n",
    "    \"Burhan\":89,\n",
    "}\n",
    "nm =\"Burhan\"\n",
    "if nm in scr: #equals with array but in dictionary\n",
    "    print(\"The score of \"+nm+\" is \"+str(scr[nm]))"
   ]
  },
  {
   "cell_type": "code",
   "execution_count": 36,
   "metadata": {},
   "outputs": [
    {
     "data": {
      "text/plain": [
       "125"
      ]
     },
     "execution_count": 36,
     "metadata": {},
     "output_type": "execute_result"
    }
   ],
   "source": [
    "#corversion data type\n",
    "# string to int\n",
    "strx = \"123\"\n",
    "int_str = int(strx)\n",
    "int_str+2"
   ]
  },
  {
   "cell_type": "code",
   "execution_count": 39,
   "metadata": {},
   "outputs": [
    {
     "data": {
      "text/plain": [
       "123.0"
      ]
     },
     "execution_count": 39,
     "metadata": {},
     "output_type": "execute_result"
    }
   ],
   "source": [
    "#str to float\n",
    "flt = float(strx)\n",
    "flt"
   ]
  },
  {
   "cell_type": "code",
   "execution_count": 48,
   "metadata": {},
   "outputs": [
    {
     "data": {
      "text/plain": [
       "'0x7b'"
      ]
     },
     "execution_count": 48,
     "metadata": {},
     "output_type": "execute_result"
    }
   ],
   "source": [
    "#to int to hexa\n",
    "hexa = hex(123)\n",
    "hexa"
   ]
  },
  {
   "cell_type": "code",
   "execution_count": 16,
   "metadata": {},
   "outputs": [
    {
     "data": {
      "text/plain": [
       "(1, 2, 43, 5, 3, 5, 6)"
      ]
     },
     "execution_count": 16,
     "metadata": {},
     "output_type": "execute_result"
    }
   ],
   "source": [
    "tuple('bodong') #string to tuple\n",
    "tuple([1,2,43,5,3,5,6]) #array to tuple"
   ]
  },
  {
   "cell_type": "code",
   "execution_count": 17,
   "metadata": {},
   "outputs": [
    {
     "data": {
      "text/plain": [
       "['c', 'a', 'e', 'm']"
      ]
     },
     "execution_count": 17,
     "metadata": {},
     "output_type": "execute_result"
    }
   ],
   "source": [
    "list('caem') #string to array"
   ]
  },
  {
   "cell_type": "code",
   "execution_count": 18,
   "metadata": {},
   "outputs": [
    {
     "data": {
      "text/plain": [
       "('k', 'a', 'm', 'u', ' ', 'g', 'a', 'n', 't', 'e', 'n', 'g')"
      ]
     },
     "execution_count": 18,
     "metadata": {},
     "output_type": "execute_result"
    }
   ],
   "source": [
    "tuple(list('kamu ganteng'))"
   ]
  },
  {
   "cell_type": "code",
   "execution_count": 59,
   "metadata": {},
   "outputs": [
    {
     "data": {
      "text/plain": [
       "{' ', 'a', 'c', 'e', 'h', 'i', 'j', 'm', 'n', 'o', 's', 'y'}"
      ]
     },
     "execution_count": 59,
     "metadata": {},
     "output_type": "execute_result"
    }
   ],
   "source": [
    "set(\"my name is jhon chiena\") #return the unique character from the list"
   ]
  },
  {
   "cell_type": "code",
   "execution_count": 61,
   "metadata": {},
   "outputs": [
    {
     "data": {
      "text/plain": [
       "'100'"
      ]
     },
     "execution_count": 61,
     "metadata": {},
     "output_type": "execute_result"
    }
   ],
   "source": [
    "#int to string\n",
    "ator = str(100)\n",
    "ator"
   ]
  },
  {
   "cell_type": "code",
   "execution_count": 3,
   "metadata": {},
   "outputs": [
    {
     "name": "stdout",
     "output_type": "stream",
     "text": [
      "number: 0\n",
      "zero number\n"
     ]
    }
   ],
   "source": [
    "x = input(\"number: \")\n",
    "if x == 0:\n",
    "    print(\"zero number\")\n",
    "elif x % 2 == 0:\n",
    "    print(\"even number\")\n",
    "else:\n",
    "    print(\"odd number\")\n"
   ]
  },
  {
   "cell_type": "code",
   "execution_count": 4,
   "metadata": {},
   "outputs": [
    {
     "data": {
      "text/plain": [
       "{'a': 1, 'b': 2, 'c': 3}"
      ]
     },
     "execution_count": 4,
     "metadata": {},
     "output_type": "execute_result"
    }
   ],
   "source": [
    "#tuple of tuple change to dictionary\n",
    "tuple = (('a',1),('b',2),('c',3))\n",
    "dictionary = dict(tuple)\n",
    "dictionary"
   ]
  },
  {
   "cell_type": "code",
   "execution_count": 7,
   "metadata": {},
   "outputs": [
    {
     "data": {
      "text/plain": [
       "int"
      ]
     },
     "execution_count": 7,
     "metadata": {},
     "output_type": "execute_result"
    }
   ],
   "source": [
    "#cek the data type\n",
    "type(dictionary)\n",
    "type(x)"
   ]
  },
  {
   "cell_type": "code",
   "execution_count": 14,
   "metadata": {},
   "outputs": [
    {
     "name": "stdout",
     "output_type": "stream",
     "text": [
      "x is greater than or equal to y\n"
     ]
    }
   ],
   "source": [
    "x = 15\n",
    "y = 12\n",
    "st = \"x is less than y\" if (x < y) else \"x is greater than or equal to y\"\n",
    "print (st)"
   ]
  }
 ],
 "metadata": {
  "kernelspec": {
   "display_name": "Python 3",
   "language": "python",
   "name": "python3"
  },
  "language_info": {
   "codemirror_mode": {
    "name": "ipython",
    "version": 3
   },
   "file_extension": ".py",
   "mimetype": "text/x-python",
   "name": "python",
   "nbconvert_exporter": "python",
   "pygments_lexer": "ipython3",
   "version": "3.7.6"
  }
 },
 "nbformat": 4,
 "nbformat_minor": 2
}

{
 "cells": [
  {
   "cell_type": "code",
   "execution_count": 20,
   "metadata": {},
   "outputs": [
    {
     "name": "stdout",
     "output_type": "stream",
     "text": [
      "Input number:3\n",
      "Three is 3\n"
     ]
    }
   ],
   "source": [
    "#switch case is a conditional statement that allow us to control the flow of our programming based on \n",
    "#the value of variable or an expression\n",
    "#but in python there isn't switch case, so we can handle it some methods\n",
    "\n",
    "#first method, we use if and function for switch case, to old way\n",
    "def One(): #function\n",
    "    print(\"One is 1\")\n",
    "def Two():\n",
    "    print(\"Two is 2\")\n",
    "def Three():\n",
    "    print(\"Three is 3\")\n",
    "def Four():\n",
    "    print(\"Four is 4\")\n",
    "def Five():\n",
    "    print(\"Five is 5\")\n",
    "\n",
    "num = int(input(\"Input number:\"))\n",
    "if num == 1:\n",
    "    One() #call the function\n",
    "elif num == 2:\n",
    "    Two()\n",
    "elif num == 3:\n",
    "    Three()\n",
    "elif num == 4:\n",
    "    Four()\n",
    "elif num == 5:\n",
    "    Five()"
   ]
  },
  {
   "cell_type": "code",
   "execution_count": 25,
   "metadata": {},
   "outputs": [
    {
     "name": "stdout",
     "output_type": "stream",
     "text": [
      "Input number:4\n",
      "Four is 4\n"
     ]
    }
   ],
   "source": [
    "#more pythonic using dictionary\n",
    "num = int(input(\"Input number:\"))\n",
    "switch = { #dictionary\n",
    "    1:One,\n",
    "    2:Two,\n",
    "    3:Three,\n",
    "    4:Four,\n",
    "    5:Five\n",
    "}\n",
    "switch[num]() #switch[num] return ==> One() call the function one"
   ]
  }
 ],
 "metadata": {
  "kernelspec": {
   "display_name": "Python 3",
   "language": "python",
   "name": "python3"
  },
  "language_info": {
   "codemirror_mode": {
    "name": "ipython",
    "version": 3
   },
   "file_extension": ".py",
   "mimetype": "text/x-python",
   "name": "python",
   "nbconvert_exporter": "python",
   "pygments_lexer": "ipython3",
   "version": "3.7.6"
  }
 },
 "nbformat": 4,
 "nbformat_minor": 2
}

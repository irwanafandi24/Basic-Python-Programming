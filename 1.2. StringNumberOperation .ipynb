{
 "cells": [
  {
   "cell_type": "code",
   "execution_count": 2,
   "metadata": {},
   "outputs": [],
   "source": [
    "phi = 3.14159 "
   ]
  },
  {
   "cell_type": "code",
   "execution_count": 7,
   "metadata": {},
   "outputs": [],
   "source": [
    "r = 10"
   ]
  },
  {
   "cell_type": "code",
   "execution_count": 8,
   "metadata": {},
   "outputs": [],
   "source": [
    "circle = phi * r ** 2"
   ]
  },
  {
   "cell_type": "code",
   "execution_count": 9,
   "metadata": {},
   "outputs": [
    {
     "data": {
      "text/plain": [
       "314.159"
      ]
     },
     "execution_count": 9,
     "metadata": {},
     "output_type": "execute_result"
    }
   ],
   "source": [
    "circle"
   ]
  },
  {
   "cell_type": "code",
   "execution_count": 11,
   "metadata": {},
   "outputs": [
    {
     "name": "stdout",
     "output_type": "stream",
     "text": [
      "The area of circle with r:  10  cm is : 314.159\n"
     ]
    }
   ],
   "source": [
    "print \"The area of circle with r: \",r,\" cm is : \"+str(circle)"
   ]
  },
  {
   "cell_type": "code",
   "execution_count": 1,
   "metadata": {},
   "outputs": [],
   "source": [
    "a,b,c,d,e = 2,3,5,7,11.2\n",
    "total = (a+b)*d/(c+e)"
   ]
  },
  {
   "cell_type": "code",
   "execution_count": 3,
   "metadata": {},
   "outputs": [
    {
     "name": "stdout",
     "output_type": "stream",
     "text": [
      "total       :   2.160493827160494\n",
      "Total round :   2\n"
     ]
    }
   ],
   "source": [
    "print (\"total       :  \", total)\n",
    "print (\"Total round :  \", round(total))"
   ]
  },
  {
   "cell_type": "code",
   "execution_count": 34,
   "metadata": {},
   "outputs": [
    {
     "name": "stdout",
     "output_type": "stream",
     "text": [
      "False    True     False\n"
     ]
    }
   ],
   "source": [
    "blA = True\n",
    "blB = False\n",
    "resultBl1 = blA and blB\n",
    "resultBl2 = blA or blB\n",
    "print resultBl , '  ' ,resultBl2,'   ', not(blA)"
   ]
  },
  {
   "cell_type": "code",
   "execution_count": 36,
   "metadata": {},
   "outputs": [
    {
     "name": "stdout",
     "output_type": "stream",
     "text": [
      "Nama  saya oscar dos santos simanjuntak\n",
      "I've make some chocolatos\n"
     ]
    }
   ],
   "source": [
    "word1 = \"Nama \"+\" saya oscar \"+ 'dos santos '+\"simanjuntak\"\n",
    "word2 = \"I've make some\"+\" chocolatos\"\n",
    "print(word1)\n",
    "print(word2)"
   ]
  },
  {
   "cell_type": "code",
   "execution_count": 5,
   "metadata": {},
   "outputs": [
    {
     "name": "stdout",
     "output_type": "stream",
     "text": [
      "Rudi's phan\n",
      "I want to say, \"What are you looking for sanas?\"\n"
     ]
    }
   ],
   "source": [
    "# single quote and double quote, with \\ we make the quote doesn't read as end of the word\n",
    "word3 = 'Rudi\\'s phan'\n",
    "word4 = \"I want to say, \\\"What are you looking for sanas?\\\"\"\n",
    "print(word3)\n",
    "print(word4)"
   ]
  },
  {
   "cell_type": "code",
   "execution_count": 42,
   "metadata": {},
   "outputs": [
    {
     "name": "stdout",
     "output_type": "stream",
     "text": [
      "11\n",
      "5\n",
      "1\n",
      "5\n"
     ]
    }
   ],
   "source": [
    "val = 1\n",
    "val = val + 10\n",
    "print (val)\n",
    "val1 = val - 6\n",
    "print (val1)\n",
    "vali = 0\n",
    "vali +=1\n",
    "valj = 10\n",
    "valj -= 5\n",
    "print (vali)\n",
    "print (valj)"
   ]
  },
  {
   "cell_type": "code",
   "execution_count": 45,
   "metadata": {},
   "outputs": [
    {
     "name": "stdout",
     "output_type": "stream",
     "text": [
      "Hallo ganteng Hallo ganteng irwan\n"
     ]
    }
   ],
   "source": [
    "w = 'Hallo ganteng '\n",
    "n = \"irwan\"\n",
    "wR = 2 * w + n\n",
    "print (wR)"
   ]
  },
  {
   "cell_type": "code",
   "execution_count": 54,
   "metadata": {},
   "outputs": [
    {
     "data": {
      "text/plain": [
       "'not T and not F '"
      ]
     },
     "execution_count": 54,
     "metadata": {},
     "output_type": "execute_result"
    }
   ],
   "source": [
    "T = True\n",
    "F = False\n",
    "\"not T and not F \""
   ]
  },
  {
   "cell_type": "code",
   "execution_count": 7,
   "metadata": {},
   "outputs": [
    {
     "data": {
      "text/plain": [
       "'stonestonestoneage'"
      ]
     },
     "execution_count": 7,
     "metadata": {},
     "output_type": "execute_result"
    }
   ],
   "source": [
    "# \"Hello\"+'Python'\n",
    "3*'stone'+'age'"
   ]
  },
  {
   "cell_type": "code",
   "execution_count": 8,
   "metadata": {},
   "outputs": [
    {
     "data": {
      "text/plain": [
       "6.0"
      ]
     },
     "execution_count": 8,
     "metadata": {},
     "output_type": "execute_result"
    }
   ],
   "source": [
    "a=2\n",
    "b=3\n",
    "c=4\n",
    "d=5\n",
    "e=10\n",
    "((a * b) + (a+ b + c ) * 2) / c"
   ]
  },
  {
   "cell_type": "code",
   "execution_count": null,
   "metadata": {},
   "outputs": [],
   "source": []
  },
  {
   "cell_type": "code",
   "execution_count": null,
   "metadata": {},
   "outputs": [],
   "source": []
  }
 ],
 "metadata": {
  "kernelspec": {
   "display_name": "Python 3",
   "language": "python",
   "name": "python3"
  },
  "language_info": {
   "codemirror_mode": {
    "name": "ipython",
    "version": 3
   },
   "file_extension": ".py",
   "mimetype": "text/x-python",
   "name": "python",
   "nbconvert_exporter": "python",
   "pygments_lexer": "ipython3",
   "version": "3.7.6"
  }
 },
 "nbformat": 4,
 "nbformat_minor": 2
}

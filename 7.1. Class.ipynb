{
 "cells": [
  {
   "cell_type": "code",
   "execution_count": 65,
   "metadata": {},
   "outputs": [],
   "source": [
    "#this is a simple example how to create class\n",
    "class student:      #class class_name:\n",
    "    name = 'Mola'     #attribute\n",
    "    score = 90\n",
    "    active = True"
   ]
  },
  {
   "cell_type": "code",
   "execution_count": 68,
   "metadata": {},
   "outputs": [],
   "source": [
    "s1 = student()                #create an instance"
   ]
  },
  {
   "cell_type": "code",
   "execution_count": 69,
   "metadata": {},
   "outputs": [
    {
     "data": {
      "text/plain": [
       "('Mola', 90, True)"
      ]
     },
     "execution_count": 69,
     "metadata": {},
     "output_type": "execute_result"
    }
   ],
   "source": [
    "s1.name, s1.score, s1.active  #how to access attribute inside the class"
   ]
  },
  {
   "cell_type": "code",
   "execution_count": 70,
   "metadata": {},
   "outputs": [
    {
     "data": {
      "text/plain": [
       "('Irwan', 75, False)"
      ]
     },
     "execution_count": 70,
     "metadata": {},
     "output_type": "execute_result"
    }
   ],
   "source": [
    "s1.name, s1.score, s1.active = 'Irwan',75,False   #replace attribute value\n",
    "s1.name, s1.score, s1.active"
   ]
  },
  {
   "cell_type": "code",
   "execution_count": 71,
   "metadata": {},
   "outputs": [],
   "source": [
    "s2 = student()"
   ]
  },
  {
   "cell_type": "code",
   "execution_count": 18,
   "metadata": {},
   "outputs": [
    {
     "data": {
      "text/plain": [
       "(<__main__.student instance at 0x00000000054A3908>,\n",
       " <__main__.student instance at 0x00000000054B1148>)"
      ]
     },
     "execution_count": 18,
     "metadata": {},
     "output_type": "execute_result"
    }
   ],
   "source": [
    "s1,s2"
   ]
  },
  {
   "cell_type": "code",
   "execution_count": 72,
   "metadata": {},
   "outputs": [],
   "source": [
    "class animal:\n",
    "    kind,name = 'Cat','Felix'\n",
    "    def printData(self): #self reference to the attribute of that class itself\n",
    "        print('Hewan dengan jenis %s namanya %s' %(self.kind,self.name))"
   ]
  },
  {
   "cell_type": "code",
   "execution_count": 78,
   "metadata": {},
   "outputs": [],
   "source": [
    "h1 = animal() "
   ]
  },
  {
   "cell_type": "code",
   "execution_count": 79,
   "metadata": {},
   "outputs": [
    {
     "name": "stdout",
     "output_type": "stream",
     "text": [
      "Hewan dengan jenis Cat namanya Felix\n"
     ]
    }
   ],
   "source": [
    "h1.printData() #access the function inside the instance"
   ]
  },
  {
   "cell_type": "code",
   "execution_count": 80,
   "metadata": {},
   "outputs": [
    {
     "name": "stdout",
     "output_type": "stream",
     "text": [
      "Hewan dengan jenis Bird namanya kutilang\n"
     ]
    }
   ],
   "source": [
    "h1.kind  = \"Bird\"      #modify the kind from cat to bird\n",
    "h1.name  = \"kutilang\"\n",
    "h1.printData()"
   ]
  },
  {
   "cell_type": "code",
   "execution_count": 85,
   "metadata": {},
   "outputs": [],
   "source": [
    "class house:\n",
    "    #double __ called as scrambles variable, like make the variable to be private (can not access outside the function)\n",
    "    __pemilik = \"Irwan\"\n",
    "    __luas = \"1000\"\n",
    "    def printInfo(self):\n",
    "        print('Rumah ini milik %s dengan luas tanah %s' %(self.__pemilik, self.__luas))\n",
    "    def changeOwner(self, pemilik):\n",
    "        self.__pemilik = pemilik   #inside the function we can change the private variable"
   ]
  },
  {
   "cell_type": "code",
   "execution_count": 86,
   "metadata": {},
   "outputs": [
    {
     "name": "stdout",
     "output_type": "stream",
     "text": [
      "Rumah ini milik Irwan dengan luas tanah 1000\n"
     ]
    }
   ],
   "source": [
    "rm1 = house()\n",
    "rm1.__pemilik = \"Afan\" #it doesn't work\n",
    "rm1.printInfo()"
   ]
  },
  {
   "cell_type": "code",
   "execution_count": 87,
   "metadata": {},
   "outputs": [
    {
     "name": "stdout",
     "output_type": "stream",
     "text": [
      "Rumah ini milik Afan dengan luas tanah 1000\n"
     ]
    }
   ],
   "source": [
    "rm1.changeOwner('Afan') #call function inside of class rm1, and change the attribute inside of house class\n",
    "rm1.printInfo()"
   ]
  },
  {
   "cell_type": "code",
   "execution_count": 88,
   "metadata": {},
   "outputs": [],
   "source": [
    "class things:\n",
    "    \"\"\"\n",
    "    __init__(self, xx,xx,xx) is function to initializeation the class when we setup a new instance\n",
    "    so if you want to make things object, you need to give name and price as the parameter\n",
    "    if not, it gonna be error\n",
    "    \"\"\"\n",
    "    __name  = 'Meja'\n",
    "    __price = 1000000\n",
    "    def __init__(self, name, price):\n",
    "        self.__name  = name\n",
    "        self.__price = price \n",
    "    def printData(self):\n",
    "        print('This is %s, it price is %d' % (self.__name,self.__price))"
   ]
  },
  {
   "cell_type": "code",
   "execution_count": 90,
   "metadata": {},
   "outputs": [
    {
     "name": "stdout",
     "output_type": "stream",
     "text": [
      "This is Kursi, it price is 200000\n"
     ]
    }
   ],
   "source": [
    "t1 = things('Kursi',200000)  #so this 2 parameter must be inputed\n",
    "t1.printData()"
   ]
  },
  {
   "cell_type": "code",
   "execution_count": 92,
   "metadata": {},
   "outputs": [],
   "source": [
    "class building:\n",
    "    \"\"\"\n",
    "    we also can make the default value, so if we doesn't give the argument on the init, it will execute the default value that\n",
    "    we have been given\n",
    "    \"\"\"\n",
    "    __name  = ''\n",
    "    __price = 0\n",
    "    def __init__(self, name='Hotel', price=5000000):\n",
    "        self.__name  = name\n",
    "        self.__price = price \n",
    "    def changePrice(self, price):\n",
    "        self.__price = price\n",
    "    def printData(self):\n",
    "        print('This is %s, it price is %d evey night' % (self.__name,self.__price))"
   ]
  },
  {
   "cell_type": "code",
   "execution_count": 97,
   "metadata": {},
   "outputs": [
    {
     "name": "stdout",
     "output_type": "stream",
     "text": [
      "This is narkoba, it price is 10 evey night\n"
     ]
    }
   ],
   "source": [
    "c1= building('narkoba',10) #if we set the parameter, so the instance will use the parameter as the value of name and price\n",
    "c1.printData()"
   ]
  },
  {
   "cell_type": "code",
   "execution_count": 99,
   "metadata": {},
   "outputs": [
    {
     "name": "stdout",
     "output_type": "stream",
     "text": [
      "This is Hotel, it price is 5000000 evey night\n"
     ]
    }
   ],
   "source": [
    "c2 = building() #if we don't set the parameter, so the instance will use the default value\n",
    "c2.printData()"
   ]
  },
  {
   "cell_type": "code",
   "execution_count": 3,
   "metadata": {},
   "outputs": [],
   "source": [
    "class Ability:\n",
    "    \"\"\"\n",
    "    We have to know that there are 2 kind of variable mutable (list, array, dict) and immutable (string, bool, flot, int, etc)\n",
    "    If we declare data mutable in global variable of the class, the mutable variable will share to another instance\n",
    "    it means if we have p1 and p2, the value of array in p1 will also be accessed by p2. To handle it, we must declare it\n",
    "    inside the __init__ function. But this doesn't happen in immutable data\n",
    "    \"\"\"\n",
    "    __name = ''\n",
    "    __age = 0\n",
    "    __ability = []\n",
    "    def __init__(self, name, age):\n",
    "        self.__name = name\n",
    "        self.__age = age\n",
    "    def printData(self):\n",
    "        print(\"Hello my name is %s and I'm %d old\" %(self.__name,self.__age))\n",
    "        print(\"My ability is: \", self.__ability)\n",
    "    def changeName(self, name):\n",
    "        self.__name = name\n",
    "    def addAbility(self, what):\n",
    "        self.__ability.append(what)"
   ]
  },
  {
   "cell_type": "code",
   "execution_count": 4,
   "metadata": {},
   "outputs": [
    {
     "name": "stdout",
     "output_type": "stream",
     "text": [
      "Hello my name is irwan and I'm 20 old\n",
      "My ability is:  []\n"
     ]
    }
   ],
   "source": [
    "p1 = Ability('irwan',20) #add an instance p1\n",
    "p1.printData() #print it"
   ]
  },
  {
   "cell_type": "code",
   "execution_count": 5,
   "metadata": {},
   "outputs": [
    {
     "name": "stdout",
     "output_type": "stream",
     "text": [
      "Hello my name is Afan and I'm 23 old\n",
      "My ability is:  []\n"
     ]
    }
   ],
   "source": [
    "p2 = Ability('Afan',23) #add an instance p2\n",
    "p2.printData() #print it"
   ]
  },
  {
   "cell_type": "code",
   "execution_count": 6,
   "metadata": {},
   "outputs": [
    {
     "name": "stdout",
     "output_type": "stream",
     "text": [
      "Hello my name is Mohamad and I'm 20 old\n",
      "My ability is:  []\n"
     ]
    }
   ],
   "source": [
    "p1.changeName('Mohamad') #change the name of p1 buat it doesn't impact into p2\n",
    "p1.printData()"
   ]
  },
  {
   "cell_type": "code",
   "execution_count": 7,
   "metadata": {},
   "outputs": [
    {
     "name": "stdout",
     "output_type": "stream",
     "text": [
      "Hello my name is Afan and I'm 23 old\n",
      "My ability is:  []\n"
     ]
    }
   ],
   "source": [
    "p2.printData() #p2's name still Afan"
   ]
  },
  {
   "cell_type": "code",
   "execution_count": 8,
   "metadata": {},
   "outputs": [],
   "source": [
    "p1.addAbility('Malin') #add p1 ability Malin"
   ]
  },
  {
   "cell_type": "code",
   "execution_count": 9,
   "metadata": {},
   "outputs": [
    {
     "name": "stdout",
     "output_type": "stream",
     "text": [
      "Hello my name is Mohamad and I'm 20 old\n",
      "My ability is:  ['Malin']\n"
     ]
    }
   ],
   "source": [
    "p1.printData() #p1 ability [malin],"
   ]
  },
  {
   "cell_type": "code",
   "execution_count": 11,
   "metadata": {},
   "outputs": [
    {
     "name": "stdout",
     "output_type": "stream",
     "text": [
      "Hello my name is Afan and I'm 23 old\n",
      "My ability is:  ['Malin']\n"
     ]
    }
   ],
   "source": [
    "# when we update the array in P1, P2 will change too, because this is mutable data like definition above\n",
    "p2.printData() "
   ]
  },
  {
   "cell_type": "code",
   "execution_count": 18,
   "metadata": {},
   "outputs": [],
   "source": [
    "class Ability:\n",
    "    # set all data mutable inside the __init__ function, but if immutable data you can set outside of __init__ function\n",
    "    def __init__(self, name, age):\n",
    "        self.__name = name\n",
    "        self.__age = age\n",
    "        self.__ability = []\n",
    "    def printData(self):\n",
    "        print(\"Hello my name is %s and I'm %d old\" %(self.__name,self.__age))\n",
    "        print(\"My ability is: \", self.__ability)\n",
    "    def changeName(self, name):\n",
    "        self.__name = name\n",
    "    def addAbility(self, what):\n",
    "        self.__ability.append(what)"
   ]
  },
  {
   "cell_type": "code",
   "execution_count": 19,
   "metadata": {},
   "outputs": [],
   "source": [
    "a1 = Ability('Evan',20)\n",
    "a2 = Ability('Ewok', 23)"
   ]
  },
  {
   "cell_type": "code",
   "execution_count": 20,
   "metadata": {},
   "outputs": [
    {
     "name": "stdout",
     "output_type": "stream",
     "text": [
      "Hello my name is Evan and I'm 20 old\n",
      "My ability is:  []\n"
     ]
    }
   ],
   "source": [
    "a1.printData()"
   ]
  },
  {
   "cell_type": "code",
   "execution_count": 21,
   "metadata": {},
   "outputs": [
    {
     "name": "stdout",
     "output_type": "stream",
     "text": [
      "Hello my name is Ewok and I'm 23 old\n",
      "My ability is:  []\n"
     ]
    }
   ],
   "source": [
    "a2.printData()"
   ]
  },
  {
   "cell_type": "code",
   "execution_count": 22,
   "metadata": {},
   "outputs": [],
   "source": [
    "a1.addAbility('workout')"
   ]
  },
  {
   "cell_type": "code",
   "execution_count": 23,
   "metadata": {},
   "outputs": [
    {
     "name": "stdout",
     "output_type": "stream",
     "text": [
      "Hello my name is Evan and I'm 20 old\n",
      "My ability is:  ['workout']\n"
     ]
    }
   ],
   "source": [
    "a1.printData()"
   ]
  },
  {
   "cell_type": "code",
   "execution_count": 24,
   "metadata": {},
   "outputs": [
    {
     "name": "stdout",
     "output_type": "stream",
     "text": [
      "Hello my name is Ewok and I'm 23 old\n",
      "My ability is:  []\n"
     ]
    }
   ],
   "source": [
    "a2.printData() #and this is work "
   ]
  },
  {
   "cell_type": "code",
   "execution_count": null,
   "metadata": {},
   "outputs": [],
   "source": []
  }
 ],
 "metadata": {
  "kernelspec": {
   "display_name": "Python 3",
   "language": "python",
   "name": "python3"
  },
  "language_info": {
   "codemirror_mode": {
    "name": "ipython",
    "version": 3
   },
   "file_extension": ".py",
   "mimetype": "text/x-python",
   "name": "python",
   "nbconvert_exporter": "python",
   "pygments_lexer": "ipython3",
   "version": "3.7.6"
  }
 },
 "nbformat": 4,
 "nbformat_minor": 2
}

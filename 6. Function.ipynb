{
 "cells": [
  {
   "cell_type": "code",
   "execution_count": 2,
   "metadata": {},
   "outputs": [],
   "source": [
    "#How to create function on python\n",
    "# def function_name(prm1, prm2, prm-n):\n",
    "#     func_body..\n",
    "#     return\n",
    "def sayHello(name): #function sayHallo will print the value\n",
    "    print('Hello My Name is '+name) "
   ]
  },
  {
   "cell_type": "code",
   "execution_count": 3,
   "metadata": {},
   "outputs": [
    {
     "name": "stdout",
     "output_type": "stream",
     "text": [
      "Hello My Name is Irwan\n"
     ]
    }
   ],
   "source": [
    "# How to call function\n",
    "# function_name(prm1, prm2, prm-n)\n",
    "sayHello('Irwan') #call function sayHello"
   ]
  },
  {
   "cell_type": "code",
   "execution_count": 4,
   "metadata": {},
   "outputs": [],
   "source": [
    "def sumNumber (a, b): #addition function\n",
    "    return a+b        #return a+b"
   ]
  },
  {
   "cell_type": "code",
   "execution_count": 5,
   "metadata": {},
   "outputs": [
    {
     "name": "stdout",
     "output_type": "stream",
     "text": [
      "sum: 14\n"
     ]
    }
   ],
   "source": [
    "print('sum: '+str(sumNumber(5,9))) #call function and print it out"
   ]
  },
  {
   "cell_type": "code",
   "execution_count": 6,
   "metadata": {},
   "outputs": [],
   "source": [
    "def subtract(x,y):   #subtraction function\n",
    "    return x-y       #return x-y"
   ]
  },
  {
   "cell_type": "code",
   "execution_count": 7,
   "metadata": {},
   "outputs": [
    {
     "name": "stdout",
     "output_type": "stream",
     "text": [
      "subtract: 5.5\n"
     ]
    }
   ],
   "source": [
    "print('subtract: '+str(subtract(10,4.5)))"
   ]
  },
  {
   "cell_type": "code",
   "execution_count": 8,
   "metadata": {},
   "outputs": [],
   "source": [
    "def mat(a,b,c):      #function with more then 2 parameter (3 parameter)\n",
    "    return (a+b*c)"
   ]
  },
  {
   "cell_type": "code",
   "execution_count": 10,
   "metadata": {},
   "outputs": [
    {
     "name": "stdout",
     "output_type": "stream",
     "text": [
      "Hasil perhitungan: 50\n"
     ]
    }
   ],
   "source": [
    "val = mat(10,8,5)\n",
    "print(\"Hasil perhitungan: \"+str(val))"
   ]
  },
  {
   "cell_type": "code",
   "execution_count": 11,
   "metadata": {},
   "outputs": [],
   "source": [
    "def operasi (a,b,c,d):    #function with 4 parameter\n",
    "    return (a*b-c/d)      #it will follow the rules of arithmetic"
   ]
  },
  {
   "cell_type": "code",
   "execution_count": 13,
   "metadata": {},
   "outputs": [
    {
     "name": "stdout",
     "output_type": "stream",
     "text": [
      "value of= 5.0\n"
     ]
    }
   ],
   "source": [
    "#we can call the function and set parameter like this, so we can make operation on variable a, b, c and d\n",
    "result = operasi (a=4/2,b=10,c=100+20,d=8)  \n",
    "print('value of= '+str(result))"
   ]
  },
  {
   "cell_type": "code",
   "execution_count": 15,
   "metadata": {},
   "outputs": [],
   "source": [
    "#default parameter, set the parameter with value.\n",
    "#so if we don't give a value to the parameter, it will use the default value its value\n",
    "#but if the user give value to the parameter which has default value, user input will be use as its parameter value\n",
    "def loopWord(name, much=1): #we set default value of parameter much by 1\n",
    "    for x in range (much):\n",
    "        print(name)"
   ]
  },
  {
   "cell_type": "code",
   "execution_count": 19,
   "metadata": {},
   "outputs": [
    {
     "name": "stdout",
     "output_type": "stream",
     "text": [
      "Irwan\n",
      "Irwan\n",
      "Irwan\n",
      "Irwan\n",
      "Irwan\n",
      "Irwan\n"
     ]
    }
   ],
   "source": [
    "loopWord('Irwan',5)  #print irwan 5x\n",
    "loopWord('Irwan')    #print irwan 1x, because the default value of much = 1"
   ]
  },
  {
   "cell_type": "code",
   "execution_count": 20,
   "metadata": {},
   "outputs": [],
   "source": [
    "def greeting (name, gretting='hellow', times= 1): #we can use any value of the default parameter's value\n",
    "    for i in range (times):\n",
    "        print(gretting+' '+name)"
   ]
  },
  {
   "cell_type": "code",
   "execution_count": 21,
   "metadata": {},
   "outputs": [
    {
     "name": "stdout",
     "output_type": "stream",
     "text": [
      "hellow irwan\n"
     ]
    }
   ],
   "source": [
    "greeting('irwan')"
   ]
  },
  {
   "cell_type": "code",
   "execution_count": 23,
   "metadata": {},
   "outputs": [
    {
     "name": "stdout",
     "output_type": "stream",
     "text": [
      "What can I do for you  Irwan Afandi\n",
      "What can I do for you  Irwan Afandi\n"
     ]
    }
   ],
   "source": [
    "greeting('Irwan Afandi','What can I do for you ',2)"
   ]
  },
  {
   "cell_type": "code",
   "execution_count": 24,
   "metadata": {},
   "outputs": [],
   "source": [
    "def modifiying(a,b,c):\n",
    "    a = 1000\n",
    "    b = 'A new string'\n",
    "    c = False\n",
    "    #we can print the variable with this method\n",
    "    #so we dont need to add much of \"+\" if we want to insert variable between string\n",
    "    print('Modified value inside the function a: %s, b: %s, c: %s' % (a,b,c)) "
   ]
  },
  {
   "cell_type": "code",
   "execution_count": 13,
   "metadata": {},
   "outputs": [
    {
     "name": "stdout",
     "output_type": "stream",
     "text": [
      "Modified value inside the function a: 1000, b: A new string, c: False\n"
     ]
    }
   ],
   "source": [
    "x = 40\n",
    "y = 'old string'\n",
    "z = True\n",
    "modifiying(a = x, b= y, c = z)"
   ]
  },
  {
   "cell_type": "code",
   "execution_count": 25,
   "metadata": {},
   "outputs": [],
   "source": [
    "def new_list(new_list): #the type of parameter can be anything string, int, float, bool, list, dict, array, sample, etc\n",
    "    new_list.append('Harvarts')"
   ]
  },
  {
   "cell_type": "code",
   "execution_count": 26,
   "metadata": {},
   "outputs": [
    {
     "data": {
      "text/plain": [
       "['Gandung', 'Miska', 'Mumtadz', 'Harvarts']"
      ]
     },
     "execution_count": 26,
     "metadata": {},
     "output_type": "execute_result"
    }
   ],
   "source": [
    "old_list = ['Gandung','Miska','Mumtadz']\n",
    "new_list(old_list)\n",
    "old_list #the array will append with Harvarts based on new_list function"
   ]
  },
  {
   "cell_type": "code",
   "execution_count": 19,
   "metadata": {},
   "outputs": [],
   "source": [
    "def list_remove(new_list): #function pop in a list, it will delete the last input on the array\n",
    "    new_list.pop()"
   ]
  },
  {
   "cell_type": "code",
   "execution_count": 20,
   "metadata": {},
   "outputs": [
    {
     "data": {
      "text/plain": [
       "['gandung', 'miska', 'mumtadz']"
      ]
     },
     "execution_count": 20,
     "metadata": {},
     "output_type": "execute_result"
    }
   ],
   "source": [
    "list_remove(old_list)\n",
    "old_list"
   ]
  },
  {
   "cell_type": "code",
   "execution_count": 28,
   "metadata": {},
   "outputs": [],
   "source": [
    "def add_phone(student): #add key ('phone') with the value on a dictionary\n",
    "    student['phone'] = '085258286238'"
   ]
  },
  {
   "cell_type": "code",
   "execution_count": 29,
   "metadata": {},
   "outputs": [
    {
     "data": {
      "text/plain": [
       "{'name': 'irwan', 'status': True, 'phone': '085258286238'}"
      ]
     },
     "execution_count": 29,
     "metadata": {},
     "output_type": "execute_result"
    }
   ],
   "source": [
    "student_ir = {\n",
    "    'name': 'irwan',\n",
    "    'status': True\n",
    "}\n",
    "add_phone(student_ir)\n",
    "student_ir"
   ]
  },
  {
   "cell_type": "code",
   "execution_count": 26,
   "metadata": {},
   "outputs": [],
   "source": [
    "def rm_key_dict(student_ir): #function to remove the key in dictionary\n",
    "    del student_ir['status'] "
   ]
  },
  {
   "cell_type": "code",
   "execution_count": 28,
   "metadata": {},
   "outputs": [
    {
     "data": {
      "text/plain": [
       "{'name': 'irwan', 'phone': '085258286238'}"
      ]
     },
     "execution_count": 28,
     "metadata": {},
     "output_type": "execute_result"
    }
   ],
   "source": [
    "rm_key_dict(student_ir)\n",
    "student_ir"
   ]
  },
  {
   "cell_type": "code",
   "execution_count": 29,
   "metadata": {},
   "outputs": [],
   "source": [
    "del student_ir #delete the dictionary"
   ]
  },
  {
   "cell_type": "code",
   "execution_count": 31,
   "metadata": {},
   "outputs": [
    {
     "ename": "NameError",
     "evalue": "name 'srudent_ir' is not defined",
     "output_type": "error",
     "traceback": [
      "\u001b[1;31m---------------------------------------------------------------------------\u001b[0m",
      "\u001b[1;31mNameError\u001b[0m                                 Traceback (most recent call last)",
      "\u001b[1;32m<ipython-input-31-04ce0755667b>\u001b[0m in \u001b[0;36m<module>\u001b[1;34m()\u001b[0m\n\u001b[1;32m----> 1\u001b[1;33m \u001b[0msrudent_ir\u001b[0m\u001b[1;33m\u001b[0m\u001b[0m\n\u001b[0m",
      "\u001b[1;31mNameError\u001b[0m: name 'srudent_ir' is not defined"
     ]
    }
   ],
   "source": [
    "srudent_ir"
   ]
  },
  {
   "cell_type": "code",
   "execution_count": 4,
   "metadata": {},
   "outputs": [],
   "source": [
    "some_num = 100\n",
    "some_string = 'irwan'\n",
    "some_list = ['mohamad','irwan','afandi']"
   ]
  },
  {
   "cell_type": "code",
   "execution_count": 33,
   "metadata": {},
   "outputs": [
    {
     "data": {
      "text/plain": [
       "(100, 'irwan', ['mohamad', 'irwan', 'afandi'])"
      ]
     },
     "execution_count": 33,
     "metadata": {},
     "output_type": "execute_result"
    }
   ],
   "source": [
    "some_num, some_string, some_list"
   ]
  },
  {
   "cell_type": "code",
   "execution_count": 32,
   "metadata": {},
   "outputs": [],
   "source": [
    "def tryed (a=0,b=0,c=0):\n",
    "    print(str(a)+' = '+str(b)+' = '+str(c))\n",
    "    print(a+b+c)"
   ]
  },
  {
   "cell_type": "code",
   "execution_count": 33,
   "metadata": {},
   "outputs": [
    {
     "name": "stdout",
     "output_type": "stream",
     "text": [
      "10 = 20 = 0\n",
      "30\n"
     ]
    }
   ],
   "source": [
    "tryed(10,20)"
   ]
  },
  {
   "cell_type": "markdown",
   "metadata": {},
   "source": [
    "#### Logic In function"
   ]
  },
  {
   "cell_type": "code",
   "execution_count": 36,
   "metadata": {},
   "outputs": [
    {
     "name": "stdout",
     "output_type": "stream",
     "text": [
      "[5, 3]\n"
     ]
    }
   ],
   "source": [
    "def main(i):\n",
    "    od = len(list(filter(lambda x: (x%2 != 0) , i))) #list will containt all data that %2 != 0\n",
    "    lt=[od,(len(i)-od)] #od = [3,5,7,9,11] and i = all\n",
    "    print(lt)\n",
    "Input =[2,3,4,5,6,7,9,11]\n",
    "main(Input)"
   ]
  },
  {
   "cell_type": "code",
   "execution_count": 37,
   "metadata": {},
   "outputs": [],
   "source": [
    "#circle function area and circumference\n",
    "import math\n",
    "def circle(d):\n",
    "    area = math.pi * (float(d)/2.0) * (float(d)/2.0)\n",
    "    circumference = math.pi * d\n",
    "    return area, circumference #this function will return two calue area and circumference"
   ]
  },
  {
   "cell_type": "code",
   "execution_count": 38,
   "metadata": {},
   "outputs": [
    {
     "name": "stdout",
     "output_type": "stream",
     "text": [
      "Input diameter: 10\n",
      "Circle with diameter: 10 has area: 78.53981633974483 m2 and circumference: 31.41592653589793 m\n"
     ]
    }
   ],
   "source": [
    "x = int(input(\"Input diameter: \"))\n",
    "area1, circumference1 = circle(x) #becase it return 2 variable, so we must catch the two variable \n",
    "print('Circle with diameter: '+str(x)+' has area: '+str(area1)+' m2 and circumference: '+str(circumference1)+' m')"
   ]
  },
  {
   "cell_type": "code",
   "execution_count": 39,
   "metadata": {},
   "outputs": [],
   "source": [
    "def squareNumber(i):\n",
    "    square = []\n",
    "    for x in range (1,i+1): square.append(x**2)\n",
    "    return square             #function return array with the value of root number start from 1 till i"
   ]
  },
  {
   "cell_type": "code",
   "execution_count": 40,
   "metadata": {},
   "outputs": [
    {
     "name": "stdout",
     "output_type": "stream",
     "text": [
      "Input number: 10\n"
     ]
    },
    {
     "data": {
      "text/plain": [
       "[1, 4, 9, 16, 25, 36, 49, 64, 81, 100]"
      ]
     },
     "execution_count": 40,
     "metadata": {},
     "output_type": "execute_result"
    }
   ],
   "source": [
    "num = int(input('Input number: '))\n",
    "squareNumber(num)"
   ]
  },
  {
   "cell_type": "code",
   "execution_count": 41,
   "metadata": {},
   "outputs": [],
   "source": [
    "# posible devided by 5 but not visible devided by 3\n",
    "def devposible(numList):\n",
    "    num = []\n",
    "    for i in numList:\n",
    "        if i % 5 == 0 and i % 3 != 0:\n",
    "            num.append(i)\n",
    "    return num"
   ]
  },
  {
   "cell_type": "code",
   "execution_count": 42,
   "metadata": {},
   "outputs": [
    {
     "data": {
      "text/plain": [
       "[5, 10, 20, 25, 35]"
      ]
     },
     "execution_count": 42,
     "metadata": {},
     "output_type": "execute_result"
    }
   ],
   "source": [
    "num = [2,3,5,10,15,20,25,30,35]\n",
    "devposible(num)"
   ]
  },
  {
   "cell_type": "code",
   "execution_count": 45,
   "metadata": {},
   "outputs": [],
   "source": [
    "#fibonancy number on function\n",
    "def fibonancy(num):\n",
    "    fibo = []\n",
    "    for i in range(1,num+1):\n",
    "        if i == 1 or i == 2:\n",
    "            fibo.append(1)\n",
    "        else:\n",
    "            fibo.append(fibo[i-2]+fibo[i-3]) \n",
    "    return fibo"
   ]
  },
  {
   "cell_type": "code",
   "execution_count": 46,
   "metadata": {},
   "outputs": [
    {
     "name": "stdout",
     "output_type": "stream",
     "text": [
      "Number fibo: 10\n"
     ]
    },
    {
     "data": {
      "text/plain": [
       "[1, 1, 2, 3, 5, 8, 13, 21, 34, 55]"
      ]
     },
     "execution_count": 46,
     "metadata": {},
     "output_type": "execute_result"
    }
   ],
   "source": [
    "x = int(input(\"Number fibo: \"))\n",
    "fibonancy(x)"
   ]
  },
  {
   "cell_type": "code",
   "execution_count": 47,
   "metadata": {},
   "outputs": [],
   "source": [
    "#fibo komputer\n",
    "def fib(num):\n",
    "    num1 = 1\n",
    "    num2 = 1\n",
    "    while num > 0:\n",
    "        print(num1)\n",
    "        num = num - 1\n",
    "        if num == 0:\n",
    "            break\n",
    "        print(num2)\n",
    "        num = num - 1\n",
    "        num1 = num1+num2\n",
    "        num2 = num1+num2"
   ]
  },
  {
   "cell_type": "code",
   "execution_count": 65,
   "metadata": {},
   "outputs": [
    {
     "name": "stdout",
     "output_type": "stream",
     "text": [
      "1\n",
      "1\n",
      "2\n",
      "3\n",
      "5\n"
     ]
    }
   ],
   "source": [
    "fib(5)"
   ]
  },
  {
   "cell_type": "code",
   "execution_count": 48,
   "metadata": {},
   "outputs": [],
   "source": [
    "#combination\n",
    "def bg(girl, boys):\n",
    "    for i in girl:\n",
    "        for j in boys:\n",
    "            print(i,' dance with ', j)"
   ]
  },
  {
   "cell_type": "code",
   "execution_count": 49,
   "metadata": {},
   "outputs": [
    {
     "name": "stdout",
     "output_type": "stream",
     "text": [
      "ana  dance with  naopal\n",
      "ana  dance with  esa\n",
      "ana  dance with  ewok\n",
      "ana  dance with  alam\n",
      "sinta  dance with  naopal\n",
      "sinta  dance with  esa\n",
      "sinta  dance with  ewok\n",
      "sinta  dance with  alam\n",
      "nila  dance with  naopal\n",
      "nila  dance with  esa\n",
      "nila  dance with  ewok\n",
      "nila  dance with  alam\n"
     ]
    }
   ],
   "source": [
    "girls = ['ana','sinta', 'nila']\n",
    "boys = ['naopal','esa','ewok','alam']\n",
    "bg(girls, boys)"
   ]
  },
  {
   "cell_type": "code",
   "execution_count": 50,
   "metadata": {},
   "outputs": [],
   "source": [
    "#count the vowel caracter in sentence and save it in dictionary\n",
    "def vowel(char):\n",
    "    data = {}\n",
    "    vow = ['a','i','u','e','o']\n",
    "    for i in char.lower():\n",
    "        if i in vow:\n",
    "            if i not in data:\n",
    "                data[i] = 1\n",
    "            else:\n",
    "                data[i] += 1\n",
    "    return data"
   ]
  },
  {
   "cell_type": "code",
   "execution_count": 51,
   "metadata": {},
   "outputs": [],
   "source": [
    "#comp version\n",
    "def vwl(sentence:str)->dict: #hanya berlaku di python 3\n",
    "    data = {}\n",
    "    vow = ['a','i','u','e','o']\n",
    "    for char in vow:\n",
    "        data[char] = 0\n",
    "    for char in sentence:\n",
    "        if char in vow:\n",
    "            data[char] +=1\n",
    "    return vwl"
   ]
  },
  {
   "cell_type": "code",
   "execution_count": 52,
   "metadata": {},
   "outputs": [
    {
     "name": "stdout",
     "output_type": "stream",
     "text": [
      "Masukkan kata: I feel so confused because of covid\n"
     ]
    },
    {
     "data": {
      "text/plain": [
       "{'i': 2, 'e': 5, 'o': 4, 'u': 2, 'a': 1}"
      ]
     },
     "execution_count": 52,
     "metadata": {},
     "output_type": "execute_result"
    }
   ],
   "source": [
    "sentence = input(\"Masukkan kata: \")\n",
    "vowel(sentence)"
   ]
  },
  {
   "cell_type": "code",
   "execution_count": 53,
   "metadata": {},
   "outputs": [
    {
     "data": {
      "text/plain": [
       "<function __main__.vwl(sentence: str) -> dict>"
      ]
     },
     "execution_count": 53,
     "metadata": {},
     "output_type": "execute_result"
    }
   ],
   "source": [
    "vwl(sentence)"
   ]
  },
  {
   "cell_type": "code",
   "execution_count": 54,
   "metadata": {},
   "outputs": [],
   "source": [
    "def margeList (a, b):\n",
    "    listA, listB = sorted(a), sorted(b)\n",
    "    a,b = 0,0\n",
    "    sort = []\n",
    "    while True:\n",
    "        if listA[a]<=listB[b]:\n",
    "            sort.append(listA[a])\n",
    "            a+=1\n",
    "        else:\n",
    "            sort.append(listB[b])\n",
    "            b+=1\n",
    "        if a == len(listA):\n",
    "            sort += listB[b:]\n",
    "            break\n",
    "        if b == len(listB):\n",
    "            sort +=listA[a:]\n",
    "            break\n",
    "    return sort"
   ]
  },
  {
   "cell_type": "code",
   "execution_count": 55,
   "metadata": {},
   "outputs": [
    {
     "data": {
      "text/plain": [
       "[0,\n",
       " 2,\n",
       " 3,\n",
       " 3,\n",
       " 5,\n",
       " 7,\n",
       " 10,\n",
       " 11,\n",
       " 12,\n",
       " 14,\n",
       " 15,\n",
       " 18,\n",
       " 19,\n",
       " 20,\n",
       " 32,\n",
       " 45,\n",
       " 60,\n",
       " 91,\n",
       " 99,\n",
       " 100,\n",
       " 178,\n",
       " 243,\n",
       " 500]"
      ]
     },
     "execution_count": 55,
     "metadata": {},
     "output_type": "execute_result"
    }
   ],
   "source": [
    "a = [3,7,10,11,12,15,18,20,243,0,45,178,500]\n",
    "b = [2,19,14,5,3,100,99,60,32,91]\n",
    "margeList(a,b)\n"
   ]
  }
 ],
 "metadata": {
  "kernelspec": {
   "display_name": "Python 3",
   "language": "python",
   "name": "python3"
  },
  "language_info": {
   "codemirror_mode": {
    "name": "ipython",
    "version": 3
   },
   "file_extension": ".py",
   "mimetype": "text/x-python",
   "name": "python",
   "nbconvert_exporter": "python",
   "pygments_lexer": "ipython3",
   "version": "3.7.6"
  }
 },
 "nbformat": 4,
 "nbformat_minor": 2
}

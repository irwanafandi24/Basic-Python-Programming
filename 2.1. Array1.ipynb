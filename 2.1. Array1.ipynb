{
 "cells": [
  {
   "cell_type": "raw",
   "metadata": {},
   "source": [
    "<==== Array In Python ====>"
   ]
  },
  {
   "cell_type": "code",
   "execution_count": 7,
   "metadata": {},
   "outputs": [
    {
     "data": {
      "text/plain": [
       "[]"
      ]
     },
     "execution_count": 7,
     "metadata": {},
     "output_type": "execute_result"
    }
   ],
   "source": [
    "#declaration array in python\n",
    "#array stores values of same data type, but list can different data type\n",
    "int_list = [10,5,3,6,11,20] #array of int\n",
    "float_list = [5.5, 10.3,15.2,17.9,3.4] #array of float\n",
    "string_list = ['Tama','suka','sama','taniboy','dan','tanigirl'] #array of string\n",
    "combine_list = [1,10.5,5,'Taminar','Tamasia',9.8,1000,'gram',True] #list\n",
    "some_list = list() #create an empty list\n",
    "\n",
    "#uncomment the code below to see the result\n",
    "# int_list\n",
    "# float_list\n",
    "# string_list\n",
    "# combine_list\n",
    "some_list"
   ]
  },
  {
   "cell_type": "code",
   "execution_count": 5,
   "metadata": {},
   "outputs": [
    {
     "data": {
      "text/plain": [
       "7"
      ]
     },
     "execution_count": 5,
     "metadata": {},
     "output_type": "execute_result"
    }
   ],
   "source": [
    "\"\"\"Access the list by the index\n",
    "   You have to know that list index start from 0, so if the len of list is 5. The maximum index of list is 4\n",
    "\"\"\"\n",
    "string_list[2] #access the list value by index\n",
    "len(string_list) #the number of value inside the list"
   ]
  },
  {
   "cell_type": "code",
   "execution_count": 8,
   "metadata": {},
   "outputs": [
    {
     "data": {
      "text/plain": [
       "['Mohamad Irwan', 'suka', 'sama', 'taniboy', 'dan', 'tanigirl']"
      ]
     },
     "execution_count": 8,
     "metadata": {},
     "output_type": "execute_result"
    }
   ],
   "source": [
    "#Replacing value of the array \n",
    "string_list[0]=\"Mohamad Irwan\"\n",
    "string_list"
   ]
  },
  {
   "cell_type": "code",
   "execution_count": 18,
   "metadata": {},
   "outputs": [
    {
     "data": {
      "text/plain": [
       "['Irwan Caem',\n",
       " 'suka',\n",
       " 'sama',\n",
       " 'taniboy',\n",
       " 'dan',\n",
       " 'tanigirl',\n",
       " 'cemburu',\n",
       " 'Sekarang tidak']"
      ]
     },
     "execution_count": 18,
     "metadata": {},
     "output_type": "execute_result"
    }
   ],
   "source": [
    "#append use to add array value, and placed in the end of index\n",
    "string_list.append('Sekarang tidak')\n",
    "string_list"
   ]
  },
  {
   "cell_type": "code",
   "execution_count": 10,
   "metadata": {},
   "outputs": [
    {
     "data": {
      "text/plain": [
       "['gusur ya',\n",
       " 'gusur ya',\n",
       " 'Mohamad Irwan',\n",
       " 'suka',\n",
       " 'sama',\n",
       " 'taniboy',\n",
       " 'melon',\n",
       " 'dan',\n",
       " 'melon',\n",
       " 'tanigirl']"
      ]
     },
     "execution_count": 10,
     "metadata": {},
     "output_type": "execute_result"
    }
   ],
   "source": [
    "# insert in specific array index\n",
    "string_list.insert(0,'gusur ya') #the current value of string_list[0] = gusur ya, previous value will be moved to index 1 \n",
    "string_list.insert(6,'melon')\n",
    "string_list"
   ]
  },
  {
   "cell_type": "code",
   "execution_count": 12,
   "metadata": {},
   "outputs": [
    {
     "data": {
      "text/plain": [
       "['a', 'b', 'c', 'd']"
      ]
     },
     "execution_count": 12,
     "metadata": {},
     "output_type": "execute_result"
    }
   ],
   "source": [
    "# if array1 + array2 it will return combination array1 and array2\n",
    "students=['a','b','c','d'] #arr1\n",
    "students"
   ]
  },
  {
   "cell_type": "code",
   "execution_count": 13,
   "metadata": {},
   "outputs": [
    {
     "data": {
      "text/plain": [
       "['a', 'b', 'c', 'd', 'e', 'f', 'g']"
      ]
     },
     "execution_count": 13,
     "metadata": {},
     "output_type": "execute_result"
    }
   ],
   "source": [
    "new_students = ['e','f','g'] #arr2\n",
    "students = students+new_students #arr1+arr2\n",
    "students #combination of arr1 and arr2"
   ]
  },
  {
   "cell_type": "code",
   "execution_count": 16,
   "metadata": {},
   "outputs": [
    {
     "data": {
      "text/plain": [
       "['a', 'b', 'c', 'd', 'e', 'f', 'g', 'e', 'e', 'e', 'f', 'g']"
      ]
     },
     "execution_count": 16,
     "metadata": {},
     "output_type": "execute_result"
    }
   ],
   "source": [
    "# insert in the last list can using append, extend or +=\n",
    "students.extend('e')\n",
    "students += ['f','g']\n",
    "students"
   ]
  },
  {
   "cell_type": "code",
   "execution_count": 17,
   "metadata": {},
   "outputs": [
    {
     "data": {
      "text/plain": [
       "6"
      ]
     },
     "execution_count": 17,
     "metadata": {},
     "output_type": "execute_result"
    }
   ],
   "source": [
    "# get list index by array value, if there are 2 same values. It will return the first index (5,10) return 5\n",
    "students.index('g')"
   ]
  },
  {
   "cell_type": "code",
   "execution_count": 20,
   "metadata": {},
   "outputs": [
    {
     "data": {
      "text/plain": [
       "['a', 'b', 'c', 'd', 'f', 'g', 'e', 'f', 'g']"
      ]
     },
     "execution_count": 20,
     "metadata": {},
     "output_type": "execute_result"
    }
   ],
   "source": [
    "\"\"\"remove array value. If the array contains more then 1 index with the same value, \n",
    "it will delete one by one (value with smallest index, will be delete first), if value not found ==> error\n",
    "\"\"\"\n",
    "students.remove('e')\n",
    "students"
   ]
  },
  {
   "cell_type": "code",
   "execution_count": 67,
   "metadata": {},
   "outputs": [
    {
     "data": {
      "text/plain": [
       "['Cindy', 'Ruslan', 'ana', 'nanda', 'zaki']"
      ]
     },
     "execution_count": 67,
     "metadata": {},
     "output_type": "execute_result"
    }
   ],
   "source": [
    "\"\"\"sort (A-Z). Note: if containt the capital letter, the capital will be the first although a Z, Z first\n",
    "reverse like flip the array value\n",
    "\"\"\"\n",
    "y = ['zaki','Ruslan','ana','Cindy','nanda']\n",
    "y.sort()\n",
    "# x.reverse()\n",
    "y"
   ]
  },
  {
   "cell_type": "code",
   "execution_count": 34,
   "metadata": {},
   "outputs": [
    {
     "data": {
      "text/plain": [
       "['Cindy', 'Ruslan', 'ana', 'nanda']"
      ]
     },
     "execution_count": 34,
     "metadata": {},
     "output_type": "execute_result"
    }
   ],
   "source": [
    "y.pop() # pop used to delete the last array value\n",
    "y"
   ]
  },
  {
   "cell_type": "code",
   "execution_count": 8,
   "metadata": {},
   "outputs": [
    {
     "data": {
      "text/plain": [
       "['tafta', 'alin']"
      ]
     },
     "execution_count": 8,
     "metadata": {},
     "output_type": "execute_result"
    }
   ],
   "source": [
    "\"\"\"slicing return a squence value from the array \n",
    "ex: from index 5 - end, 2-5, 0-3, etc\n",
    "\"\"\"\n",
    "name = ['aryo','dwi','breda','tafta','alin','dena']\n",
    "name[-2]    #get the second last value ==> alin \n",
    "name[0:3]   #return start from index 0 to index 2 (n-1) ==> aryo, dwi, breda\n",
    "name[2:4]   #return start from index 2 to index 3  ==> breda, tafta\n",
    "name[:3]    #return 0-2\n",
    "name[3:]    #return 3-end\n",
    "name[:-2]   #return 0-the second last value (alin)\n",
    "name[-3:]   #return the third last value - end (tafta, alin, breda)\n",
    "name[-3:-1] #return fro the last third value - before the last first value (tafta, alin)"
   ]
  },
  {
   "cell_type": "code",
   "execution_count": 9,
   "metadata": {},
   "outputs": [],
   "source": [
    "arr = [54, 23, 43, 12, 32, 45, 67]"
   ]
  },
  {
   "cell_type": "code",
   "execution_count": 19,
   "metadata": {},
   "outputs": [
    {
     "data": {
      "text/plain": [
       "[12, 32, 45]"
      ]
     },
     "execution_count": 19,
     "metadata": {},
     "output_type": "execute_result"
    }
   ],
   "source": [
    "arr[-4:-1]"
   ]
  },
  {
   "cell_type": "code",
   "execution_count": 48,
   "metadata": {},
   "outputs": [
    {
     "data": {
      "text/plain": [
       "'afandi umurnya adalah: 21'"
      ]
     },
     "execution_count": 48,
     "metadata": {},
     "output_type": "execute_result"
    }
   ],
   "source": [
    "\"\"\"Matrix is array with more than 1 dimension\n",
    "   [0] will access the array of string, [0][1] array of name index 1 ==> afandi, [1][1] array of number idx 1 ==> 21\n",
    "\"\"\"\n",
    "x = [['irwan','afandi','mohamad'],[20,21,22]] #[ [array of string], [array of number] ]\n",
    "x[0][1]+\" umurnya adalah: \"+str(x[1][1]) "
   ]
  },
  {
   "cell_type": "code",
   "execution_count": 65,
   "metadata": {},
   "outputs": [
    {
     "data": {
      "text/plain": [
       "['Cindy', 'Ruslan', 'ana', 'nanda', 'zaki']"
      ]
     },
     "execution_count": 65,
     "metadata": {},
     "output_type": "execute_result"
    }
   ],
   "source": [
    "y_copy = y #y_copy will reference to y\n",
    "y_copy #nanda exist"
   ]
  },
  {
   "cell_type": "code",
   "execution_count": 66,
   "metadata": {},
   "outputs": [
    {
     "data": {
      "text/plain": [
       "['Cindy', 'Ruslan', 'ana', 'zaki']"
      ]
     },
     "execution_count": 66,
     "metadata": {},
     "output_type": "execute_result"
    }
   ],
   "source": [
    "y_copy.remove('nanda') #because y_copy reference to y. So if data in y_copy delete, the data in y will delete too. \n",
    "y #nanda doesn't exist"
   ]
  },
  {
   "cell_type": "code",
   "execution_count": 71,
   "metadata": {},
   "outputs": [
    {
     "data": {
      "text/plain": [
       "['Cindy', 'Ruslan', 'ana', 'nanda', 'zaki']"
      ]
     },
     "execution_count": 71,
     "metadata": {},
     "output_type": "execute_result"
    }
   ],
   "source": [
    "x = y[:] #this like copy but by value not by reference\n",
    "x"
   ]
  },
  {
   "cell_type": "code",
   "execution_count": 81,
   "metadata": {},
   "outputs": [
    {
     "data": {
      "text/plain": [
       "180"
      ]
     },
     "execution_count": 81,
     "metadata": {},
     "output_type": "execute_result"
    }
   ],
   "source": [
    "angka = [5,15,2,54,10,32,19,43]\n",
    "max(angka) #get the max of array value\n",
    "min(angka) #get the min of array value\n",
    "sum(angka) #get the sum of array value"
   ]
  },
  {
   "cell_type": "code",
   "execution_count": 82,
   "metadata": {},
   "outputs": [
    {
     "data": {
      "text/plain": [
       "[5, 15, 2, 54, 10, 32, 19, 43]"
      ]
     },
     "execution_count": 82,
     "metadata": {},
     "output_type": "execute_result"
    }
   ],
   "source": [
    "angka_sorted = sorted(angka) #if sorted, initial data will note be sort\n",
    "angka"
   ]
  },
  {
   "cell_type": "code",
   "execution_count": 1,
   "metadata": {},
   "outputs": [
    {
     "ename": "NameError",
     "evalue": "name 'angka' is not defined",
     "output_type": "error",
     "traceback": [
      "\u001b[1;31m---------------------------------------------------------------------------\u001b[0m",
      "\u001b[1;31mNameError\u001b[0m                                 Traceback (most recent call last)",
      "\u001b[1;32m<ipython-input-1-d0b900d8b58f>\u001b[0m in \u001b[0;36m<module>\u001b[1;34m()\u001b[0m\n\u001b[1;32m----> 1\u001b[1;33m \u001b[0mangka_sort\u001b[0m \u001b[1;33m=\u001b[0m \u001b[0mangka\u001b[0m\u001b[1;33m.\u001b[0m\u001b[0msort\u001b[0m\u001b[1;33m(\u001b[0m\u001b[1;33m)\u001b[0m \u001b[1;31m#if sort the init data will sort too\u001b[0m\u001b[1;33m\u001b[0m\u001b[0m\n\u001b[0m\u001b[0;32m      2\u001b[0m \u001b[0mangka\u001b[0m\u001b[1;33m\u001b[0m\u001b[0m\n",
      "\u001b[1;31mNameError\u001b[0m: name 'angka' is not defined"
     ]
    }
   ],
   "source": [
    "angka_sort = angka.sort() #if sort the init data will sort too\n",
    "angka"
   ]
  },
  {
   "cell_type": "code",
   "execution_count": 34,
   "metadata": {},
   "outputs": [
    {
     "name": "stdout",
     "output_type": "stream",
     "text": [
      "4\n"
     ]
    }
   ],
   "source": [
    "angka = [1,2,3,4] # ini index mulai dari 0 jadi 0,1,2,3 ==> nilai dari len(angka) = 4\n",
    "sum = angka[0] #jadi pertama kita set nilai awal dengan array index ke 0\n",
    "lenArray = len(angka)-1 #relatif kan karena index ke 0 sudah dipakek maka sisa data yang belum dipakek 4-1 = 3\n",
    "for i in range (len(angka)): #for i:= 0 sampai 4, cuman nanti yang dilooping 0 sampai 3\n",
    "    if i == 0 : #jika nilai i 0 maka kita skip soalnya 0 kan udah kita pakek buat inisiasi di awal\n",
    "        continue #ini skipnya\n",
    "    else: #kalau i bukan 0 berarti 1,2,3\n",
    "        if lenArray % 2 == 1: # nah ini tricki, kalau len array bilangan ganjil, maka nilai awal ditambah array ke i\n",
    "            sum += angka[i]\n",
    "        else: #kalau len array bilangan genap, maka dikurang array ke i\n",
    "            sum -= angka[i]\n",
    "    lenArray-= 1 #ini buat ngurangi lennya, jadi waktu di angka 2 lenya 3, angka 3 lennya 2 angka 4 lennya 1\n",
    "print(sum)\n",
    "#==== kondisi awal\n",
    "#sum = diisi angka[0] nilai array yang paling awal = 1\n",
    "#lenArray = 3\n",
    "\n",
    "#masuk perulangan\n",
    "#for i = 0     , awal mulai dari 0 jeng\n",
    "# skip\n",
    "#for i = 1 ,berarti pindah ke index 1 seng nilai arrayne 2\n",
    "#len array = 3 (ganjil)\n",
    "#sum = sum + angka[1]  ==> sum = 1 + 2 = 3\n",
    "#lenArray -=1  maka jadi 3-1 = 2 terus mbalik ke atas\n",
    "#for i = 2, berarti pindah ke index 2 nilai arrayne 3\n",
    "#len array = 2 kan dari sebelumnya (genap)\n",
    "# sum = sum - angka[i] = sum 3 - 3  = 0\n",
    "#lenArray -= 1 ==> 2-1 = 1\n",
    "#for i = 3, pindah ke index 3 terakhir yang nilaine 4\n",
    "#lenArray = 1 (ganjil)\n",
    "#masuk ke tambah sum = 0 + 4 = 4\n",
    "#lenArray -1 = 0\n",
    "#perulangan selesai"
   ]
  },
  {
   "cell_type": "code",
   "execution_count": 2,
   "metadata": {},
   "outputs": [
    {
     "name": "stdout",
     "output_type": "stream",
     "text": [
      "4\n"
     ]
    }
   ],
   "source": [
    "angka = [1,2,3,4] \n",
    "sum = angka[0] \n",
    "for i in range (len(angka)): \n",
    "    if i == 0 : \n",
    "        continue\n",
    "    else: \n",
    "        if i % 2 == 1:\n",
    "            sum += angka[i]\n",
    "        else:\n",
    "            sum -= angka[i]\n",
    "print(sum)"
   ]
  }
 ],
 "metadata": {
  "kernelspec": {
   "display_name": "Python 2",
   "language": "python",
   "name": "python2"
  },
  "language_info": {
   "codemirror_mode": {
    "name": "ipython",
    "version": 2
   },
   "file_extension": ".py",
   "mimetype": "text/x-python",
   "name": "python",
   "nbconvert_exporter": "python",
   "pygments_lexer": "ipython2",
   "version": "2.7.15"
  }
 },
 "nbformat": 4,
 "nbformat_minor": 2
}

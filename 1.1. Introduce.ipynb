{
 "cells": [
  {
   "cell_type": "code",
   "execution_count": 1,
   "metadata": {},
   "outputs": [
    {
     "data": {
      "text/plain": [
       "6"
      ]
     },
     "execution_count": 1,
     "metadata": {},
     "output_type": "execute_result"
    }
   ],
   "source": [
    "1+2+3 #normal operation (all int)"
   ]
  },
  {
   "cell_type": "code",
   "execution_count": 2,
   "metadata": {},
   "outputs": [
    {
     "data": {
      "text/plain": [
       "8.0"
      ]
     },
     "execution_count": 2,
     "metadata": {},
     "output_type": "execute_result"
    }
   ],
   "source": [
    "2*3.5+5-10/2.5 #normal operation (combine with float will return float value)"
   ]
  },
  {
   "cell_type": "code",
   "execution_count": 5,
   "metadata": {},
   "outputs": [
    {
     "data": {
      "text/plain": [
       "4"
      ]
     },
     "execution_count": 5,
     "metadata": {},
     "output_type": "execute_result"
    }
   ],
   "source": [
    "17 // 4 #div, return integer posible devided "
   ]
  },
  {
   "cell_type": "code",
   "execution_count": 7,
   "metadata": {},
   "outputs": [
    {
     "data": {
      "text/plain": [
       "3"
      ]
     },
     "execution_count": 7,
     "metadata": {},
     "output_type": "execute_result"
    }
   ],
   "source": [
    "13%5 #modulo"
   ]
  },
  {
   "cell_type": "code",
   "execution_count": 3,
   "metadata": {},
   "outputs": [
    {
     "data": {
      "text/plain": [
       "8"
      ]
     },
     "execution_count": 3,
     "metadata": {},
     "output_type": "execute_result"
    }
   ],
   "source": [
    "2**3 # 2 power of 3"
   ]
  },
  {
   "cell_type": "code",
   "execution_count": 16,
   "metadata": {},
   "outputs": [
    {
     "data": {
      "text/plain": [
       "'Hello world'"
      ]
     },
     "execution_count": 16,
     "metadata": {},
     "output_type": "execute_result"
    }
   ],
   "source": [
    "\"Hello \" + \"world\" #string addition (concatenation)"
   ]
  },
  {
   "cell_type": "code",
   "execution_count": 4,
   "metadata": {},
   "outputs": [
    {
     "name": "stdout",
     "output_type": "stream",
     "text": [
      "Hallow gaes\n"
     ]
    }
   ],
   "source": [
    "print(\"Hallow gaes\") #print in python"
   ]
  },
  {
   "cell_type": "code",
   "execution_count": 1,
   "metadata": {},
   "outputs": [
    {
     "data": {
      "text/plain": [
       "12"
      ]
     },
     "execution_count": 1,
     "metadata": {},
     "output_type": "execute_result"
    }
   ],
   "source": [
    "len(\"Hello sasuke\") #len: number of character in a santance"
   ]
  },
  {
   "cell_type": "code",
   "execution_count": 2,
   "metadata": {},
   "outputs": [
    {
     "data": {
      "text/plain": [
       "100"
      ]
     },
     "execution_count": 2,
     "metadata": {},
     "output_type": "execute_result"
    }
   ],
   "source": [
    "max(10,15,20,9,100) #get the maximum value"
   ]
  },
  {
   "cell_type": "code",
   "execution_count": 3,
   "metadata": {},
   "outputs": [
    {
     "data": {
      "text/plain": [
       "1"
      ]
     },
     "execution_count": 3,
     "metadata": {},
     "output_type": "execute_result"
    }
   ],
   "source": [
    "min (10,100,200,3,1,98) #get the minimum value"
   ]
  },
  {
   "cell_type": "code",
   "execution_count": 4,
   "metadata": {},
   "outputs": [
    {
     "data": {
      "text/plain": [
       "90"
      ]
     },
     "execution_count": 4,
     "metadata": {},
     "output_type": "execute_result"
    }
   ],
   "source": [
    "abs(-90) #absolute, all the value will change to positive "
   ]
  },
  {
   "cell_type": "code",
   "execution_count": 5,
   "metadata": {},
   "outputs": [
    {
     "data": {
      "text/plain": [
       "10"
      ]
     },
     "execution_count": 5,
     "metadata": {},
     "output_type": "execute_result"
    }
   ],
   "source": [
    "round(10.5) # round (lest then equal 0.5 will down to 0, more then 0.5 will up to +1)"
   ]
  },
  {
   "cell_type": "code",
   "execution_count": 6,
   "metadata": {},
   "outputs": [
    {
     "data": {
      "text/plain": [
       "\"Nama saya  IRWAN and I'm 23 years old\""
      ]
     },
     "execution_count": 6,
     "metadata": {},
     "output_type": "execute_result"
    }
   ],
   "source": [
    "\"Nama saya \"+\" IRWAN and I'm \"+str(23)+\" years old\"  #int to string"
   ]
  },
  {
   "cell_type": "raw",
   "metadata": {},
   "source": [
    "<==== Learn Variable and Number operation ====>"
   ]
  },
  {
   "cell_type": "code",
   "execution_count": 10,
   "metadata": {},
   "outputs": [
    {
     "name": "stdout",
     "output_type": "stream",
     "text": [
      "The area of circle with r:  10  cm is : 314.159\n"
     ]
    }
   ],
   "source": [
    "phi = 3.14159 #phi is variable and 3.14159 is value\n",
    "r = 10\n",
    "circle = phi * r ** 2 #save operation on variable\n",
    "print (\"The area of circle with r: \",r,\" cm is : \"+str(circle)) #value"
   ]
  },
  {
   "cell_type": "code",
   "execution_count": 11,
   "metadata": {},
   "outputs": [
    {
     "name": "stdout",
     "output_type": "stream",
     "text": [
      "total       :   2.160493827160494\n",
      "Total round :   2\n"
     ]
    }
   ],
   "source": [
    "a,b,c,d,e = 2,3,5,7,11.2 #another way to declare variable to minimize rows of code\n",
    "total = (a+b)*d/(c+e)\n",
    "print (\"total       :  \", total)\n",
    "print (\"Total round :  \", round(total))"
   ]
  },
  {
   "cell_type": "code",
   "execution_count": 16,
   "metadata": {},
   "outputs": [
    {
     "name": "stdout",
     "output_type": "stream",
     "text": [
      "False\n",
      "True\n",
      "True\n"
     ]
    }
   ],
   "source": [
    "#Boolean, variable with return true or false\n",
    "v1, v2 = True, False  #variable v1 = True and v2 = False\n",
    "print(v1 and v2)      #and operator will return true if both of them are true\n",
    "print(v1 or v2)       #or operator will retun true if one of the are tue \n",
    "print(v1 and not(v2)) #not is negation"
   ]
  },
  {
   "cell_type": "code",
   "execution_count": 19,
   "metadata": {},
   "outputs": [
    {
     "name": "stdout",
     "output_type": "stream",
     "text": [
      "Irwan's code\n",
      "I want to say, \"Love yourself?\"\n"
     ]
    }
   ],
   "source": [
    "# single quote and double quote using \\, we make the quote doesn't read as end of the word\n",
    "word3 = 'Irwan\\'s code' #the second ' read as character\n",
    "word4 = \"I want to say, \\\"Love yourself?\\\"\" #the third and fourth \" read as haracter\n",
    "print(word3)\n",
    "print(word4)"
   ]
  },
  {
   "cell_type": "code",
   "execution_count": 23,
   "metadata": {},
   "outputs": [
    {
     "name": "stdout",
     "output_type": "stream",
     "text": [
      "11\n",
      "5\n",
      "1\n",
      "5\n"
     ]
    }
   ],
   "source": [
    "#increment and decrement in python\n",
    "val = 1\n",
    "val = val + 10    #increment in python\n",
    "print (val)\n",
    "val1 = val - 6\n",
    "print (val1)\n",
    "vali = 0\n",
    "vali +=1          #equals with i++\n",
    "valj = 10\n",
    "valj -= 5         #valj-5\n",
    "print (vali)\n",
    "print (valj)"
   ]
  },
  {
   "cell_type": "code",
   "execution_count": 24,
   "metadata": {},
   "outputs": [
    {
     "name": "stdout",
     "output_type": "stream",
     "text": [
      "Love Love Pyhon\n"
     ]
    }
   ],
   "source": [
    "#mathematic operation in string\n",
    "st1, st2 = \"Love \",\"Pyhon\"\n",
    "operation = 2*st1+st2\n",
    "print(operation)"
   ]
  },
  {
   "cell_type": "code",
   "execution_count": null,
   "metadata": {},
   "outputs": [],
   "source": []
  }
 ],
 "metadata": {
  "kernelspec": {
   "display_name": "Python 3",
   "language": "python",
   "name": "python3"
  },
  "language_info": {
   "codemirror_mode": {
    "name": "ipython",
    "version": 3
   },
   "file_extension": ".py",
   "mimetype": "text/x-python",
   "name": "python",
   "nbconvert_exporter": "python",
   "pygments_lexer": "ipython3",
   "version": "3.7.6"
  }
 },
 "nbformat": 4,
 "nbformat_minor": 2
}

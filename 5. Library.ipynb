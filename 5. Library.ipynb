{
 "cells": [
  {
   "cell_type": "code",
   "execution_count": 2,
   "metadata": {},
   "outputs": [],
   "source": [
    "import math     #how to access library (import than follow with library)\n",
    "import random"
   ]
  },
  {
   "cell_type": "code",
   "execution_count": 4,
   "metadata": {},
   "outputs": [
    {
     "data": {
      "text/plain": [
       "120"
      ]
     },
     "execution_count": 4,
     "metadata": {},
     "output_type": "execute_result"
    }
   ],
   "source": [
    "math.factorial(5) #math library and access factorial function"
   ]
  },
  {
   "cell_type": "code",
   "execution_count": 8,
   "metadata": {},
   "outputs": [
    {
     "data": {
      "text/plain": [
       "11.0"
      ]
     },
     "execution_count": 8,
     "metadata": {},
     "output_type": "execute_result"
    }
   ],
   "source": [
    "math.ceil(10.4) #round up"
   ]
  },
  {
   "cell_type": "code",
   "execution_count": 5,
   "metadata": {},
   "outputs": [
    {
     "name": "stdout",
     "output_type": "stream",
     "text": [
      "12\n"
     ]
    }
   ],
   "source": [
    "print(math.gcd(60, 48)) #gcd "
   ]
  },
  {
   "cell_type": "code",
   "execution_count": 6,
   "metadata": {},
   "outputs": [
    {
     "data": {
      "text/plain": [
       "32.0"
      ]
     },
     "execution_count": 6,
     "metadata": {},
     "output_type": "execute_result"
    }
   ],
   "source": [
    "math.pow(2,5) #2 power of 5 2x2x2x2x2"
   ]
  },
  {
   "cell_type": "code",
   "execution_count": 16,
   "metadata": {},
   "outputs": [
    {
     "data": {
      "text/plain": [
       "3.141592653589793"
      ]
     },
     "execution_count": 16,
     "metadata": {},
     "output_type": "execute_result"
    }
   ],
   "source": [
    "math.pi #phi"
   ]
  },
  {
   "cell_type": "code",
   "execution_count": 7,
   "metadata": {},
   "outputs": [
    {
     "data": {
      "text/plain": [
       "2.718281828459045"
      ]
     },
     "execution_count": 7,
     "metadata": {},
     "output_type": "execute_result"
    }
   ],
   "source": [
    "math.e #exponential"
   ]
  },
  {
   "cell_type": "code",
   "execution_count": 10,
   "metadata": {},
   "outputs": [
    {
     "ename": "TypeError",
     "evalue": "'float' object is not callable",
     "output_type": "error",
     "traceback": [
      "\u001b[1;31m---------------------------------------------------------------------------\u001b[0m",
      "\u001b[1;31mTypeError\u001b[0m                                 Traceback (most recent call last)",
      "\u001b[1;32m<ipython-input-10-db55a13289e9>\u001b[0m in \u001b[0;36m<module>\u001b[1;34m\u001b[0m\n\u001b[1;32m----> 1\u001b[1;33m \u001b[0mmath\u001b[0m\u001b[1;33m.\u001b[0m\u001b[0mnan\u001b[0m \u001b[1;33m(\u001b[0m\u001b[1;34m'10'\u001b[0m\u001b[1;33m)\u001b[0m\u001b[1;33m\u001b[0m\u001b[1;33m\u001b[0m\u001b[0m\n\u001b[0m",
      "\u001b[1;31mTypeError\u001b[0m: 'float' object is not callable"
     ]
    }
   ],
   "source": [
    "math.nan #not a number"
   ]
  },
  {
   "cell_type": "code",
   "execution_count": 20,
   "metadata": {},
   "outputs": [
    {
     "data": {
      "text/plain": [
       "True"
      ]
     },
     "execution_count": 20,
     "metadata": {},
     "output_type": "execute_result"
    }
   ],
   "source": [
    "x1 = float(\"nan\")\n",
    "math.isnan(x1) #is not a number"
   ]
  },
  {
   "cell_type": "code",
   "execution_count": 21,
   "metadata": {},
   "outputs": [],
   "source": [
    "import random #random"
   ]
  },
  {
   "cell_type": "code",
   "execution_count": 22,
   "metadata": {},
   "outputs": [
    {
     "data": {
      "text/plain": [
       "5"
      ]
     },
     "execution_count": 22,
     "metadata": {},
     "output_type": "execute_result"
    }
   ],
   "source": [
    "random.randint(0,10)"
   ]
  },
  {
   "cell_type": "code",
   "execution_count": 31,
   "metadata": {},
   "outputs": [
    {
     "data": {
      "text/plain": [
       "0"
      ]
     },
     "execution_count": 31,
     "metadata": {},
     "output_type": "execute_result"
    }
   ],
   "source": [
    "choice = random.choice([1,2,3,49,8,0])\n",
    "choice"
   ]
  },
  {
   "cell_type": "code",
   "execution_count": 33,
   "metadata": {},
   "outputs": [
    {
     "data": {
      "text/plain": [
       "22"
      ]
     },
     "execution_count": 33,
     "metadata": {},
     "output_type": "execute_result"
    }
   ],
   "source": [
    "random.choice([1,5,8,0,22])"
   ]
  },
  {
   "cell_type": "code",
   "execution_count": 40,
   "metadata": {},
   "outputs": [
    {
     "data": {
      "text/plain": [
       "['mican', 'juris', 'manaka', 'uirwan']"
      ]
     },
     "execution_count": 40,
     "metadata": {},
     "output_type": "execute_result"
    }
   ],
   "source": [
    "nama = ['uirwan','mican','juris','manaka'] #shuffle the list\n",
    "random.shuffle(nama)\n",
    "nama"
   ]
  },
  {
   "cell_type": "code",
   "execution_count": 24,
   "metadata": {},
   "outputs": [],
   "source": [
    "import os #The OS module in python provides functions for interacting with the operating system"
   ]
  },
  {
   "cell_type": "code",
   "execution_count": 25,
   "metadata": {},
   "outputs": [
    {
     "data": {
      "text/plain": [
       "'C:\\\\Users\\\\moham'"
      ]
     },
     "execution_count": 25,
     "metadata": {},
     "output_type": "execute_result"
    }
   ],
   "source": [
    "os.getcwd() #current working directory"
   ]
  },
  {
   "cell_type": "code",
   "execution_count": 31,
   "metadata": {},
   "outputs": [
    {
     "data": {
      "text/plain": [
       "'nt'"
      ]
     },
     "execution_count": 31,
     "metadata": {},
     "output_type": "execute_result"
    }
   ],
   "source": [
    "os.name #name of os ex: poxic, nt, java, etc"
   ]
  },
  {
   "cell_type": "code",
   "execution_count": 34,
   "metadata": {},
   "outputs": [
    {
     "data": {
      "text/plain": [
       "['.anaconda',\n",
       " '.atom',\n",
       " '.bash_history',\n",
       " '.conda',\n",
       " '.condarc',\n",
       " '.config',\n",
       " '.eclipse',\n",
       " '.gitconfig',\n",
       " '.IdeaIC2019.3',\n",
       " '.ipynb_checkpoints',\n",
       " '.ipython',\n",
       " '.jupyter',\n",
       " '.m2',\n",
       " '.matplotlib',\n",
       " '.node_repl_history',\n",
       " '.pgAdmin4.2123502176.addr',\n",
       " '.pgAdmin4.2123502176.log',\n",
       " '.pgAdmin4.startup.log',\n",
       " '.spyder',\n",
       " '.ssh',\n",
       " '.vscode',\n",
       " '1.1. Introduce.ipynb',\n",
       " '1.2. StringNumberOperation .ipynb',\n",
       " '10. Try Except.ipynb',\n",
       " '11. Regular Expression.ipynb',\n",
       " '2.1. Array1.ipynb',\n",
       " '2.2. Dictionary.ipynb',\n",
       " '2.3. StringInput And Tuples.ipynb',\n",
       " '3. IF Else and Conversion Data Type.ipynb',\n",
       " '3.2 Switch case.ipynb',\n",
       " '3D Objects',\n",
       " '4.1. For - break.ipynb',\n",
       " '4.2. While and problem solve.ipynb',\n",
       " '5. Library.ipynb',\n",
       " '6. Functuin.ipynb',\n",
       " '7.1. Class.ipynb',\n",
       " '7.2. Inheritance and class problem.ipynb',\n",
       " '8. Lambda and List Comprehension.ipynb',\n",
       " '9.1. File Operation, CSV.ipynb',\n",
       " '9.2. Read CSV file.ipynb',\n",
       " 'Adobe Flash Builder 4.6',\n",
       " 'Anaconda2',\n",
       " 'AppData',\n",
       " 'Application Data',\n",
       " 'Certificate.ipynb',\n",
       " 'circle.html',\n",
       " 'cloudword.ipynb',\n",
       " 'cloudword.png',\n",
       " 'cloudword.txt',\n",
       " 'Contacts',\n",
       " 'Cookies',\n",
       " 'Creative Cloud Files',\n",
       " 'Desktop',\n",
       " 'Documents',\n",
       " 'Downloads',\n",
       " 'edb_languagepack_10.exe',\n",
       " 'edb_mtk.exe',\n",
       " 'edb_npgsql.exe',\n",
       " 'edb_pem_server.exe',\n",
       " 'edb_pem_sqlprofiler_pg10.exe',\n",
       " 'edb_pgagent.exe',\n",
       " 'edb_pgbouncer.exe',\n",
       " 'edb_pgjdbc.exe',\n",
       " 'edb_psqlodbc.exe',\n",
       " 'edb_slony_i_pg10.exe',\n",
       " 'edb_sqlprotect_pg10.exe',\n",
       " 'edb_updatemonitor.exe',\n",
       " 'edb_xdb10.exe',\n",
       " 'Favorites',\n",
       " 'File',\n",
       " 'go',\n",
       " 'IntelGraphicsProfiles',\n",
       " 'Jupiter course',\n",
       " 'Links',\n",
       " 'Local Settings',\n",
       " 'MicrosoftEdgeBackups',\n",
       " 'Music',\n",
       " 'My Documents',\n",
       " 'NetHood',\n",
       " 'NTUSER.DAT',\n",
       " 'ntuser.dat.LOG1',\n",
       " 'ntuser.dat.LOG2',\n",
       " 'NTUSER.DAT{b36aec86-e158-11e9-9602-fbdc9023d6a5}.TM.blf',\n",
       " 'NTUSER.DAT{b36aec86-e158-11e9-9602-fbdc9023d6a5}.TMContainer00000000000000000001.regtrans-ms',\n",
       " 'NTUSER.DAT{b36aec86-e158-11e9-9602-fbdc9023d6a5}.TMContainer00000000000000000002.regtrans-ms',\n",
       " 'ntuser.ini',\n",
       " 'OneDrive',\n",
       " 'OpenVPN',\n",
       " 'Paper.ipynb',\n",
       " 'pemhttpd.exe',\n",
       " 'Pictures',\n",
       " 'postgis_2_5_pg10.exe',\n",
       " 'postgresql_10.exe',\n",
       " 'Postman',\n",
       " 'PrintHood',\n",
       " 'Recent',\n",
       " 'Saved Games',\n",
       " 'Searches',\n",
       " 'SendTo',\n",
       " 'st.csv',\n",
       " 'Start Menu',\n",
       " 'Templates',\n",
       " 'Untitled.ipynb',\n",
       " 'Untitled1.ipynb',\n",
       " 'Untitled2.ipynb',\n",
       " 'Untitled3.ipynb',\n",
       " 'upload to git',\n",
       " 'Videos',\n",
       " 'Zotero']"
      ]
     },
     "execution_count": 34,
     "metadata": {},
     "output_type": "execute_result"
    }
   ],
   "source": [
    "os.listdir() #return all the directory inside our python modul"
   ]
  },
  {
   "cell_type": "code",
   "execution_count": 37,
   "metadata": {},
   "outputs": [],
   "source": [
    "os.mkdir('./new_dir2') #make directory"
   ]
  },
  {
   "cell_type": "code",
   "execution_count": 40,
   "metadata": {},
   "outputs": [
    {
     "data": {
      "text/plain": [
       "['.anaconda',\n",
       " '.atom',\n",
       " '.bash_history',\n",
       " '.conda',\n",
       " '.condarc',\n",
       " '.config',\n",
       " '.eclipse',\n",
       " '.gitconfig',\n",
       " '.IdeaIC2019.3',\n",
       " '.ipynb_checkpoints',\n",
       " '.ipython',\n",
       " '.jupyter',\n",
       " '.m2',\n",
       " '.matplotlib',\n",
       " '.node_repl_history',\n",
       " '.pgAdmin4.2123502176.addr',\n",
       " '.pgAdmin4.2123502176.log',\n",
       " '.pgAdmin4.startup.log',\n",
       " '.spyder',\n",
       " '.ssh',\n",
       " '.vscode',\n",
       " '1.1. Introduce.ipynb',\n",
       " '1.2. StringNumberOperation .ipynb',\n",
       " '10. Try Except.ipynb',\n",
       " '11. Regular Expression.ipynb',\n",
       " '2.1. Array1.ipynb',\n",
       " '2.2. Dictionary.ipynb',\n",
       " '2.3. StringInput And Tuples.ipynb',\n",
       " '3. IF Else and Conversion Data Type.ipynb',\n",
       " '3.2 Switch case.ipynb',\n",
       " '3D Objects',\n",
       " '4.1. For - break.ipynb',\n",
       " '4.2. While and problem solve.ipynb',\n",
       " '5. Library.ipynb',\n",
       " '6. Functuin.ipynb',\n",
       " '7.1. Class.ipynb',\n",
       " '7.2. Inheritance and class problem.ipynb',\n",
       " '8. Lambda and List Comprehension.ipynb',\n",
       " '9.1. File Operation, CSV.ipynb',\n",
       " '9.2. Read CSV file.ipynb',\n",
       " 'Adobe Flash Builder 4.6',\n",
       " 'Anaconda2',\n",
       " 'AppData',\n",
       " 'Application Data',\n",
       " 'Certificate.ipynb',\n",
       " 'circle.html',\n",
       " 'cloudword.ipynb',\n",
       " 'cloudword.png',\n",
       " 'cloudword.txt',\n",
       " 'Contacts',\n",
       " 'Cookies',\n",
       " 'Creative Cloud Files',\n",
       " 'Desktop',\n",
       " 'Documents',\n",
       " 'Downloads',\n",
       " 'edb_languagepack_10.exe',\n",
       " 'edb_mtk.exe',\n",
       " 'edb_npgsql.exe',\n",
       " 'edb_pem_server.exe',\n",
       " 'edb_pem_sqlprofiler_pg10.exe',\n",
       " 'edb_pgagent.exe',\n",
       " 'edb_pgbouncer.exe',\n",
       " 'edb_pgjdbc.exe',\n",
       " 'edb_psqlodbc.exe',\n",
       " 'edb_slony_i_pg10.exe',\n",
       " 'edb_sqlprotect_pg10.exe',\n",
       " 'edb_updatemonitor.exe',\n",
       " 'edb_xdb10.exe',\n",
       " 'Favorites',\n",
       " 'File',\n",
       " 'go',\n",
       " 'IntelGraphicsProfiles',\n",
       " 'Jupiter course',\n",
       " 'Links',\n",
       " 'Local Settings',\n",
       " 'MicrosoftEdgeBackups',\n",
       " 'Music',\n",
       " 'My Documents',\n",
       " 'NetHood',\n",
       " 'new_dir',\n",
       " 'new_dir2',\n",
       " 'NTUSER.DAT',\n",
       " 'ntuser.dat.LOG1',\n",
       " 'ntuser.dat.LOG2',\n",
       " 'NTUSER.DAT{b36aec86-e158-11e9-9602-fbdc9023d6a5}.TM.blf',\n",
       " 'NTUSER.DAT{b36aec86-e158-11e9-9602-fbdc9023d6a5}.TMContainer00000000000000000001.regtrans-ms',\n",
       " 'NTUSER.DAT{b36aec86-e158-11e9-9602-fbdc9023d6a5}.TMContainer00000000000000000002.regtrans-ms',\n",
       " 'ntuser.ini',\n",
       " 'OneDrive',\n",
       " 'OpenVPN',\n",
       " 'Paper.ipynb',\n",
       " 'pemhttpd.exe',\n",
       " 'Pictures',\n",
       " 'postgis_2_5_pg10.exe',\n",
       " 'postgresql_10.exe',\n",
       " 'Postman',\n",
       " 'PrintHood',\n",
       " 'Recent',\n",
       " 'Saved Games',\n",
       " 'Searches',\n",
       " 'SendTo',\n",
       " 'st.csv',\n",
       " 'Start Menu',\n",
       " 'Templates',\n",
       " 'Untitled.ipynb',\n",
       " 'Untitled1.ipynb',\n",
       " 'Untitled2.ipynb',\n",
       " 'Untitled3.ipynb',\n",
       " 'upload to git',\n",
       " 'Videos',\n",
       " 'Zotero']"
      ]
     },
     "execution_count": 40,
     "metadata": {},
     "output_type": "execute_result"
    }
   ],
   "source": [
    "os.listdir()"
   ]
  },
  {
   "cell_type": "code",
   "execution_count": 41,
   "metadata": {},
   "outputs": [],
   "source": [
    "os.rename('new_dir2', 'dir 3') #rename directory"
   ]
  },
  {
   "cell_type": "code",
   "execution_count": 42,
   "metadata": {},
   "outputs": [
    {
     "data": {
      "text/plain": [
       "['.anaconda',\n",
       " '.atom',\n",
       " '.bash_history',\n",
       " '.conda',\n",
       " '.condarc',\n",
       " '.config',\n",
       " '.eclipse',\n",
       " '.gitconfig',\n",
       " '.IdeaIC2019.3',\n",
       " '.ipynb_checkpoints',\n",
       " '.ipython',\n",
       " '.jupyter',\n",
       " '.m2',\n",
       " '.matplotlib',\n",
       " '.node_repl_history',\n",
       " '.pgAdmin4.2123502176.addr',\n",
       " '.pgAdmin4.2123502176.log',\n",
       " '.pgAdmin4.startup.log',\n",
       " '.spyder',\n",
       " '.ssh',\n",
       " '.vscode',\n",
       " '1.1. Introduce.ipynb',\n",
       " '1.2. StringNumberOperation .ipynb',\n",
       " '10. Try Except.ipynb',\n",
       " '11. Regular Expression.ipynb',\n",
       " '2.1. Array1.ipynb',\n",
       " '2.2. Dictionary.ipynb',\n",
       " '2.3. StringInput And Tuples.ipynb',\n",
       " '3. IF Else and Conversion Data Type.ipynb',\n",
       " '3.2 Switch case.ipynb',\n",
       " '3D Objects',\n",
       " '4.1. For - break.ipynb',\n",
       " '4.2. While and problem solve.ipynb',\n",
       " '5. Library.ipynb',\n",
       " '6. Functuin.ipynb',\n",
       " '7.1. Class.ipynb',\n",
       " '7.2. Inheritance and class problem.ipynb',\n",
       " '8. Lambda and List Comprehension.ipynb',\n",
       " '9.1. File Operation, CSV.ipynb',\n",
       " '9.2. Read CSV file.ipynb',\n",
       " 'Adobe Flash Builder 4.6',\n",
       " 'Anaconda2',\n",
       " 'AppData',\n",
       " 'Application Data',\n",
       " 'Certificate.ipynb',\n",
       " 'circle.html',\n",
       " 'cloudword.ipynb',\n",
       " 'cloudword.png',\n",
       " 'cloudword.txt',\n",
       " 'Contacts',\n",
       " 'Cookies',\n",
       " 'Creative Cloud Files',\n",
       " 'Desktop',\n",
       " 'dir 3',\n",
       " 'Documents',\n",
       " 'Downloads',\n",
       " 'edb_languagepack_10.exe',\n",
       " 'edb_mtk.exe',\n",
       " 'edb_npgsql.exe',\n",
       " 'edb_pem_server.exe',\n",
       " 'edb_pem_sqlprofiler_pg10.exe',\n",
       " 'edb_pgagent.exe',\n",
       " 'edb_pgbouncer.exe',\n",
       " 'edb_pgjdbc.exe',\n",
       " 'edb_psqlodbc.exe',\n",
       " 'edb_slony_i_pg10.exe',\n",
       " 'edb_sqlprotect_pg10.exe',\n",
       " 'edb_updatemonitor.exe',\n",
       " 'edb_xdb10.exe',\n",
       " 'Favorites',\n",
       " 'File',\n",
       " 'go',\n",
       " 'IntelGraphicsProfiles',\n",
       " 'Jupiter course',\n",
       " 'Links',\n",
       " 'Local Settings',\n",
       " 'MicrosoftEdgeBackups',\n",
       " 'Music',\n",
       " 'My Documents',\n",
       " 'NetHood',\n",
       " 'new_dir',\n",
       " 'NTUSER.DAT',\n",
       " 'ntuser.dat.LOG1',\n",
       " 'ntuser.dat.LOG2',\n",
       " 'NTUSER.DAT{b36aec86-e158-11e9-9602-fbdc9023d6a5}.TM.blf',\n",
       " 'NTUSER.DAT{b36aec86-e158-11e9-9602-fbdc9023d6a5}.TMContainer00000000000000000001.regtrans-ms',\n",
       " 'NTUSER.DAT{b36aec86-e158-11e9-9602-fbdc9023d6a5}.TMContainer00000000000000000002.regtrans-ms',\n",
       " 'ntuser.ini',\n",
       " 'OneDrive',\n",
       " 'OpenVPN',\n",
       " 'Paper.ipynb',\n",
       " 'pemhttpd.exe',\n",
       " 'Pictures',\n",
       " 'postgis_2_5_pg10.exe',\n",
       " 'postgresql_10.exe',\n",
       " 'Postman',\n",
       " 'PrintHood',\n",
       " 'Recent',\n",
       " 'Saved Games',\n",
       " 'Searches',\n",
       " 'SendTo',\n",
       " 'st.csv',\n",
       " 'Start Menu',\n",
       " 'Templates',\n",
       " 'Untitled.ipynb',\n",
       " 'Untitled1.ipynb',\n",
       " 'Untitled2.ipynb',\n",
       " 'Untitled3.ipynb',\n",
       " 'upload to git',\n",
       " 'Videos',\n",
       " 'Zotero']"
      ]
     },
     "execution_count": 42,
     "metadata": {},
     "output_type": "execute_result"
    }
   ],
   "source": [
    "os.listdir('.')"
   ]
  },
  {
   "cell_type": "code",
   "execution_count": 43,
   "metadata": {},
   "outputs": [],
   "source": [
    "os.rmdir('dir 3') #remove directory"
   ]
  },
  {
   "cell_type": "code",
   "execution_count": 44,
   "metadata": {},
   "outputs": [
    {
     "data": {
      "text/plain": [
       "['.anaconda',\n",
       " '.atom',\n",
       " '.bash_history',\n",
       " '.conda',\n",
       " '.condarc',\n",
       " '.config',\n",
       " '.eclipse',\n",
       " '.gitconfig',\n",
       " '.IdeaIC2019.3',\n",
       " '.ipynb_checkpoints',\n",
       " '.ipython',\n",
       " '.jupyter',\n",
       " '.m2',\n",
       " '.matplotlib',\n",
       " '.node_repl_history',\n",
       " '.pgAdmin4.2123502176.addr',\n",
       " '.pgAdmin4.2123502176.log',\n",
       " '.pgAdmin4.startup.log',\n",
       " '.spyder',\n",
       " '.ssh',\n",
       " '.vscode',\n",
       " '1.1. Introduce.ipynb',\n",
       " '1.2. StringNumberOperation .ipynb',\n",
       " '10. Try Except.ipynb',\n",
       " '11. Regular Expression.ipynb',\n",
       " '2.1. Array1.ipynb',\n",
       " '2.2. Dictionary.ipynb',\n",
       " '2.3. StringInput And Tuples.ipynb',\n",
       " '3. IF Else and Conversion Data Type.ipynb',\n",
       " '3.2 Switch case.ipynb',\n",
       " '3D Objects',\n",
       " '4.1. For - break.ipynb',\n",
       " '4.2. While and problem solve.ipynb',\n",
       " '5. Library.ipynb',\n",
       " '6. Functuin.ipynb',\n",
       " '7.1. Class.ipynb',\n",
       " '7.2. Inheritance and class problem.ipynb',\n",
       " '8. Lambda and List Comprehension.ipynb',\n",
       " '9.1. File Operation, CSV.ipynb',\n",
       " '9.2. Read CSV file.ipynb',\n",
       " 'Adobe Flash Builder 4.6',\n",
       " 'Anaconda2',\n",
       " 'AppData',\n",
       " 'Application Data',\n",
       " 'Certificate.ipynb',\n",
       " 'circle.html',\n",
       " 'cloudword.ipynb',\n",
       " 'cloudword.png',\n",
       " 'cloudword.txt',\n",
       " 'Contacts',\n",
       " 'Cookies',\n",
       " 'Creative Cloud Files',\n",
       " 'Desktop',\n",
       " 'Documents',\n",
       " 'Downloads',\n",
       " 'edb_languagepack_10.exe',\n",
       " 'edb_mtk.exe',\n",
       " 'edb_npgsql.exe',\n",
       " 'edb_pem_server.exe',\n",
       " 'edb_pem_sqlprofiler_pg10.exe',\n",
       " 'edb_pgagent.exe',\n",
       " 'edb_pgbouncer.exe',\n",
       " 'edb_pgjdbc.exe',\n",
       " 'edb_psqlodbc.exe',\n",
       " 'edb_slony_i_pg10.exe',\n",
       " 'edb_sqlprotect_pg10.exe',\n",
       " 'edb_updatemonitor.exe',\n",
       " 'edb_xdb10.exe',\n",
       " 'Favorites',\n",
       " 'File',\n",
       " 'go',\n",
       " 'IntelGraphicsProfiles',\n",
       " 'Jupiter course',\n",
       " 'Links',\n",
       " 'Local Settings',\n",
       " 'MicrosoftEdgeBackups',\n",
       " 'Music',\n",
       " 'My Documents',\n",
       " 'NetHood',\n",
       " 'new_dir',\n",
       " 'NTUSER.DAT',\n",
       " 'ntuser.dat.LOG1',\n",
       " 'ntuser.dat.LOG2',\n",
       " 'NTUSER.DAT{b36aec86-e158-11e9-9602-fbdc9023d6a5}.TM.blf',\n",
       " 'NTUSER.DAT{b36aec86-e158-11e9-9602-fbdc9023d6a5}.TMContainer00000000000000000001.regtrans-ms',\n",
       " 'NTUSER.DAT{b36aec86-e158-11e9-9602-fbdc9023d6a5}.TMContainer00000000000000000002.regtrans-ms',\n",
       " 'ntuser.ini',\n",
       " 'OneDrive',\n",
       " 'OpenVPN',\n",
       " 'Paper.ipynb',\n",
       " 'pemhttpd.exe',\n",
       " 'Pictures',\n",
       " 'postgis_2_5_pg10.exe',\n",
       " 'postgresql_10.exe',\n",
       " 'Postman',\n",
       " 'PrintHood',\n",
       " 'Recent',\n",
       " 'Saved Games',\n",
       " 'Searches',\n",
       " 'SendTo',\n",
       " 'st.csv',\n",
       " 'Start Menu',\n",
       " 'Templates',\n",
       " 'Untitled.ipynb',\n",
       " 'Untitled1.ipynb',\n",
       " 'Untitled2.ipynb',\n",
       " 'Untitled3.ipynb',\n",
       " 'upload to git',\n",
       " 'Videos',\n",
       " 'Zotero']"
      ]
     },
     "execution_count": 44,
     "metadata": {},
     "output_type": "execute_result"
    }
   ],
   "source": [
    "os.listdir('.')"
   ]
  },
  {
   "cell_type": "code",
   "execution_count": 52,
   "metadata": {},
   "outputs": [
    {
     "data": {
      "text/plain": [
       "True"
      ]
     },
     "execution_count": 52,
     "metadata": {},
     "output_type": "execute_result"
    }
   ],
   "source": [
    "os.path.exists('/Users/Moham') #check is the directory exists"
   ]
  },
  {
   "cell_type": "code",
   "execution_count": 54,
   "metadata": {},
   "outputs": [],
   "source": [
    "from os import path #load library also can start with \"form\" var import \"specific\"\n",
    "#from sklearn.naive_bayes import GaussianNB"
   ]
  },
  {
   "cell_type": "code",
   "execution_count": 56,
   "metadata": {},
   "outputs": [
    {
     "data": {
      "text/plain": [
       "'C:\\\\Users\\\\moham'"
      ]
     },
     "execution_count": 56,
     "metadata": {},
     "output_type": "execute_result"
    }
   ],
   "source": [
    "path.abspath('.') #where our os location"
   ]
  },
  {
   "cell_type": "code",
   "execution_count": 58,
   "metadata": {},
   "outputs": [
    {
     "data": {
      "text/plain": [
       "True"
      ]
     },
     "execution_count": 58,
     "metadata": {},
     "output_type": "execute_result"
    }
   ],
   "source": [
    "path.isfile('2.2. Dictionary.ipynb') #check is there file with name x in our os"
   ]
  }
 ],
 "metadata": {
  "kernelspec": {
   "display_name": "Python 3",
   "language": "python",
   "name": "python3"
  },
  "language_info": {
   "codemirror_mode": {
    "name": "ipython",
    "version": 3
   },
   "file_extension": ".py",
   "mimetype": "text/x-python",
   "name": "python",
   "nbconvert_exporter": "python",
   "pygments_lexer": "ipython3",
   "version": "3.7.6"
  }
 },
 "nbformat": 4,
 "nbformat_minor": 2
}

{
 "cells": [
  {
   "cell_type": "code",
   "execution_count": 79,
   "metadata": {},
   "outputs": [],
   "source": [
    "class Shape:\n",
    "    pass #if we don't want add anything in this class      "
   ]
  },
  {
   "cell_type": "code",
   "execution_count": 80,
   "metadata": {},
   "outputs": [],
   "source": [
    "test = Shape() #because we didn't do anything to that class, so we can add some of variable as we want to that class\n",
    "test.name = 'irwan'\n",
    "test.address = 'south jakarta'\n",
    "test.income = 300"
   ]
  },
  {
   "cell_type": "code",
   "execution_count": 81,
   "metadata": {},
   "outputs": [
    {
     "data": {
      "text/plain": [
       "'irwan'"
      ]
     },
     "execution_count": 81,
     "metadata": {},
     "output_type": "execute_result"
    }
   ],
   "source": [
    "test.name"
   ]
  },
  {
   "cell_type": "code",
   "execution_count": 82,
   "metadata": {},
   "outputs": [],
   "source": [
    "class Shape(): #we also can declare class using brackets\n",
    "    pass"
   ]
  },
  {
   "cell_type": "code",
   "execution_count": 83,
   "metadata": {},
   "outputs": [],
   "source": [
    "class Shape(object): #if we use object as parameter\n",
    "    pass"
   ]
  },
  {
   "cell_type": "code",
   "execution_count": 84,
   "metadata": {},
   "outputs": [],
   "source": [
    "class Shape: #make an ordinary class\n",
    "    def __init__(self, shape_type):\n",
    "        self.__type = shape_type #we can fill it by circle, triangle, rectangle,etc\n",
    "    \n",
    "    # we don't declare the method body because every shape has different way to define area and parameter     \n",
    "    def getArea(self): \n",
    "        pass\n",
    "    def getPerimeter(self):\n",
    "        pass"
   ]
  },
  {
   "cell_type": "code",
   "execution_count": 85,
   "metadata": {},
   "outputs": [],
   "source": [
    "obj1 = Shape('Circle')"
   ]
  },
  {
   "cell_type": "code",
   "execution_count": 86,
   "metadata": {},
   "outputs": [],
   "source": [
    "obj1.getArea() #null because we have not defined yet"
   ]
  },
  {
   "cell_type": "code",
   "execution_count": 87,
   "metadata": {},
   "outputs": [],
   "source": [
    "obj1.getPerimeter()"
   ]
  },
  {
   "cell_type": "markdown",
   "metadata": {},
   "source": [
    "<h2>Inheritance</h2>\n",
    "It is a mechanism where you can to derive a class (1) from another class (2) for a hierarchy of classes. With Inheritence all attributes and methods in class (2) also owned by class (1), we also can Overriding the method. Overriding is re-creating the method in class (2), example: we define the formula of circle, rectangle, etc where it doesn't defin in super class."
   ]
  },
  {
   "cell_type": "code",
   "execution_count": 88,
   "metadata": {},
   "outputs": [],
   "source": [
    "import math\n",
    "class Circle(Shape): #circle inherit from shape\n",
    "    def __init__(self, radius):\n",
    "        Shape.__init__(self, 'Circle') #dont forget to add the self\n",
    "        self.__radius = radius\n",
    "    def getArea(self): #we overriding the method to determine circle formula\n",
    "        return math.pi*self.__radius*self.__radius\n",
    "    def getPerimeter(self): #we overriding\n",
    "        return math.pi*2*self.__radius"
   ]
  },
  {
   "cell_type": "code",
   "execution_count": 89,
   "metadata": {},
   "outputs": [],
   "source": [
    "c = Circle(10)"
   ]
  },
  {
   "cell_type": "code",
   "execution_count": 90,
   "metadata": {},
   "outputs": [
    {
     "data": {
      "text/plain": [
       "314.1592653589793"
      ]
     },
     "execution_count": 90,
     "metadata": {},
     "output_type": "execute_result"
    }
   ],
   "source": [
    "c.getArea()"
   ]
  },
  {
   "cell_type": "code",
   "execution_count": 91,
   "metadata": {},
   "outputs": [
    {
     "data": {
      "text/plain": [
       "62.83185307179586"
      ]
     },
     "execution_count": 91,
     "metadata": {},
     "output_type": "execute_result"
    }
   ],
   "source": [
    "c.getPerimeter()"
   ]
  },
  {
   "cell_type": "code",
   "execution_count": 92,
   "metadata": {},
   "outputs": [],
   "source": [
    "class Square(Shape): #shape inherit frim shape\n",
    "    def __init__(self, side):\n",
    "        Shape.__init__(self,'Square')\n",
    "        self.__side = side\n",
    "    def getArea(self): #we overriding\n",
    "        return self.__side**2\n",
    "    def getPerimeter(self): #we overriding\n",
    "        return self.__side*4"
   ]
  },
  {
   "cell_type": "code",
   "execution_count": 93,
   "metadata": {},
   "outputs": [
    {
     "data": {
      "text/plain": [
       "25"
      ]
     },
     "execution_count": 93,
     "metadata": {},
     "output_type": "execute_result"
    }
   ],
   "source": [
    "c2 = Square(5)\n",
    "c2.getArea()"
   ]
  },
  {
   "cell_type": "code",
   "execution_count": 94,
   "metadata": {},
   "outputs": [
    {
     "data": {
      "text/plain": [
       "20"
      ]
     },
     "execution_count": 94,
     "metadata": {},
     "output_type": "execute_result"
    }
   ],
   "source": [
    "c2.getPerimeter()"
   ]
  },
  {
   "cell_type": "code",
   "execution_count": 95,
   "metadata": {},
   "outputs": [],
   "source": [
    "class Shape:\n",
    "    def __init__(self, shape_type):\n",
    "        self.__type = shape_type\n",
    "        self.__color = 'red'\n",
    "    def changeColor(self, color):\n",
    "        self.__color = color\n",
    "    def getColor(self):\n",
    "        return self.__color\n",
    "    def getArea(self):\n",
    "        pass\n",
    "    def getPerimeter(self):\n",
    "        pass\n",
    "    def introduce(self):\n",
    "        print(\"Hello I'm Rectangle\")"
   ]
  },
  {
   "cell_type": "code",
   "execution_count": 96,
   "metadata": {},
   "outputs": [],
   "source": [
    "class circle(Shape):\n",
    "    def __init__(self, radius):\n",
    "        #Shape.__init__(self,'circle') we can use this code for inherite a class\n",
    "        super().__init__('circle') #you can use this line too\n",
    "        self.__radius = radius\n",
    "    def getArea(self):\n",
    "        return math.pi*self.__radius*self.__radius\n",
    "    def getPerimeter(self):\n",
    "        return math.pi*2*self.__radius\n",
    "    def introduce(self): #override from shape\n",
    "        print(\"Hello I'm Circle\")\n",
    "    def ownShape(self): #create own method in circle\n",
    "        print(\"I love circle\")"
   ]
  },
  {
   "cell_type": "code",
   "execution_count": 97,
   "metadata": {},
   "outputs": [],
   "source": [
    "c = circle(10)"
   ]
  },
  {
   "cell_type": "code",
   "execution_count": 98,
   "metadata": {},
   "outputs": [
    {
     "data": {
      "text/plain": [
       "314.1592653589793"
      ]
     },
     "execution_count": 98,
     "metadata": {},
     "output_type": "execute_result"
    }
   ],
   "source": [
    "#although we define changeColor in shape class, we can access it in circle class because circle inherite from shape\n",
    "c.changeColor('Jingga') \n",
    "c.getArea()"
   ]
  },
  {
   "cell_type": "code",
   "execution_count": 99,
   "metadata": {},
   "outputs": [
    {
     "data": {
      "text/plain": [
       "'Jingga'"
      ]
     },
     "execution_count": 99,
     "metadata": {},
     "output_type": "execute_result"
    }
   ],
   "source": [
    "c.getColor() "
   ]
  },
  {
   "cell_type": "code",
   "execution_count": 100,
   "metadata": {},
   "outputs": [
    {
     "name": "stdout",
     "output_type": "stream",
     "text": [
      "Hello I'm Circle\n"
     ]
    }
   ],
   "source": [
    "c.introduce()"
   ]
  },
  {
   "cell_type": "code",
   "execution_count": 101,
   "metadata": {},
   "outputs": [
    {
     "name": "stdout",
     "output_type": "stream",
     "text": [
      "I love circle\n"
     ]
    }
   ],
   "source": [
    "c.ownShape()"
   ]
  },
  {
   "cell_type": "markdown",
   "metadata": {},
   "source": [
    "<h2>Encapsulation</h2>\n",
    "Encapsulatuin is the concept of source code protection in a class (1) from being accessed by other classes (2)"
   ]
  },
  {
   "cell_type": "code",
   "execution_count": 102,
   "metadata": {},
   "outputs": [],
   "source": [
    "class bag:\n",
    "    def __init__(self):\n",
    "        self.__price = 500000   #set as private (encapsulation)\n",
    "        self.__color = \"Black\"\n",
    "        self.city = \"Indonesia\"\n",
    "    def sell(self):\n",
    "        print(\"The Price of this bag: {0} with color {1}\".format(self.__price, self.__color))\n",
    "    def setPrice(self, newPrice):\n",
    "        self.__price = newPrice\n",
    "    def setColor(self, newColor):\n",
    "        self.__color = newColor"
   ]
  },
  {
   "cell_type": "code",
   "execution_count": 103,
   "metadata": {},
   "outputs": [
    {
     "name": "stdout",
     "output_type": "stream",
     "text": [
      "The Price of this bag: 500000 with color Black\n",
      "The Price of this bag: 500000 with color Black\n"
     ]
    }
   ],
   "source": [
    "bag1 = bag()\n",
    "bag1.sell()\n",
    "bag1.__price = 1000000 #the price will never change, because the class encapsulate this attribut\n",
    "bag1.__color = \"pink\"\n",
    "bag1.sell()"
   ]
  },
  {
   "cell_type": "code",
   "execution_count": 104,
   "metadata": {},
   "outputs": [
    {
     "name": "stdout",
     "output_type": "stream",
     "text": [
      "The Price of this bag: 1000000 with color Pink\n"
     ]
    }
   ],
   "source": [
    "bag1.setPrice(1000000) #we can change the price using this method that already create inside the class\n",
    "bag1.setColor(\"Pink\")\n",
    "bag1.sell()"
   ]
  },
  {
   "cell_type": "code",
   "execution_count": 105,
   "metadata": {},
   "outputs": [
    {
     "data": {
      "text/plain": [
       "'Indonesia'"
      ]
     },
     "execution_count": 105,
     "metadata": {},
     "output_type": "execute_result"
    }
   ],
   "source": [
    "bag1.city"
   ]
  },
  {
   "cell_type": "code",
   "execution_count": 106,
   "metadata": {},
   "outputs": [
    {
     "ename": "AttributeError",
     "evalue": "'bag' object has no attribute 'city'",
     "output_type": "error",
     "traceback": [
      "\u001b[1;31m---------------------------------------------------------------------------\u001b[0m",
      "\u001b[1;31mAttributeError\u001b[0m                            Traceback (most recent call last)",
      "\u001b[1;32m<ipython-input-106-a20ada059a68>\u001b[0m in \u001b[0;36m<module>\u001b[1;34m\u001b[0m\n\u001b[0;32m      1\u001b[0m \u001b[1;32mdel\u001b[0m \u001b[0mbag1\u001b[0m\u001b[1;33m.\u001b[0m\u001b[0mcity\u001b[0m \u001b[1;31m#if u want to delete public attribut in class\u001b[0m\u001b[1;33m\u001b[0m\u001b[1;33m\u001b[0m\u001b[0m\n\u001b[1;32m----> 2\u001b[1;33m \u001b[0mbag1\u001b[0m\u001b[1;33m.\u001b[0m\u001b[0mcity\u001b[0m\u001b[1;33m\u001b[0m\u001b[1;33m\u001b[0m\u001b[0m\n\u001b[0m",
      "\u001b[1;31mAttributeError\u001b[0m: 'bag' object has no attribute 'city'"
     ]
    }
   ],
   "source": [
    "del bag1.city #if u want to delete public attribut in class\n",
    "bag1.city"
   ]
  },
  {
   "cell_type": "markdown",
   "metadata": {},
   "source": [
    "<h2>Polymorphism</h2>\n",
    "Polymorphism (many form) means same function name (but different signatures) being uses for different types."
   ]
  },
  {
   "cell_type": "code",
   "execution_count": 107,
   "metadata": {},
   "outputs": [],
   "source": [
    "class Fruit:\n",
    "    def intro(self):\n",
    "        print(\"There are many kids of fruit\")\n",
    "    def taste(self):\n",
    "        pass\n",
    "class Orange(Fruit):\n",
    "    def taste(self): #the name of method is same, but it has different output\n",
    "        print(\"Orange has sweet taste\")\n",
    "class Mango(Fruit):\n",
    "    def taste(self):\n",
    "        print(\"Some of mangos has sour taste\")"
   ]
  },
  {
   "cell_type": "code",
   "execution_count": 108,
   "metadata": {},
   "outputs": [
    {
     "name": "stdout",
     "output_type": "stream",
     "text": [
      "There are many kids of fruit\n"
     ]
    }
   ],
   "source": [
    "b1 = Fruit()\n",
    "b1.intro()\n",
    "b1.taste()"
   ]
  },
  {
   "cell_type": "code",
   "execution_count": 109,
   "metadata": {},
   "outputs": [
    {
     "name": "stdout",
     "output_type": "stream",
     "text": [
      "There are many kids of fruit\n",
      "Orange has sweet taste\n",
      "There are many kids of fruit\n",
      "Some of mangos has sour taste\n"
     ]
    }
   ],
   "source": [
    "b2= Orange()\n",
    "b2.intro()\n",
    "b2.taste()\n",
    "b3 = Mango()\n",
    "b3.intro()\n",
    "b3.taste()"
   ]
  },
  {
   "cell_type": "markdown",
   "metadata": {},
   "source": [
    "<h2>Addition</h2>\n",
    "Try to understand by yourself"
   ]
  },
  {
   "cell_type": "code",
   "execution_count": 110,
   "metadata": {},
   "outputs": [],
   "source": [
    "class mahasiswa:\n",
    "    \"\"\" Set mirip dengan dictionary, namun bisa di add, ada juga union,intersection, difference\n",
    "    b = set()\n",
    "    b.add('a')\n",
    "    b.add('A')\n",
    "    b.add('a')\n",
    "    print(b) ==> a,A karena a kecil sudah ada di set b\n",
    "    \"\"\"\n",
    "    def __init__(self, name, age, major='informatic', honor=False):\n",
    "        self.__name = name\n",
    "        self.__age = age\n",
    "        self.__major = major\n",
    "        self.__club = []\n",
    "        self.__honor = honor\n",
    "        self.__score = set()\n",
    "    def editName(self, name):\n",
    "        self.__name = name\n",
    "    def editAge(self,age):\n",
    "        self.__age = age\n",
    "    def editMajor(self, major):\n",
    "        self.__major = major\n",
    "    def addClub(self, cName):\n",
    "        self.__club.append(cName)\n",
    "    def addScore(self, number):\n",
    "        self.__score.add(number)\n",
    "    def printData(self):\n",
    "        print('Name %s, %d years old and the major is %s and honor status %s' %(self.__name,self.__age,self.__major, self.__honor))\n",
    "        print('Club: ',self.__club)\n",
    "        print('Score: ',self.__score)"
   ]
  },
  {
   "cell_type": "code",
   "execution_count": 111,
   "metadata": {},
   "outputs": [],
   "source": [
    "m1 = mahasiswa('Sues', 23, 'CS',True)"
   ]
  },
  {
   "cell_type": "code",
   "execution_count": 112,
   "metadata": {},
   "outputs": [
    {
     "name": "stdout",
     "output_type": "stream",
     "text": [
      "Name Sues, 23 years old and the major is CS and honor status True\n",
      "Club:  []\n",
      "Score:  set()\n"
     ]
    }
   ],
   "source": [
    "m1.printData()"
   ]
  },
  {
   "cell_type": "code",
   "execution_count": 113,
   "metadata": {},
   "outputs": [],
   "source": [
    "m1.editAge(22)\n",
    "m1.editMajor('Informatic')\n",
    "m1.addScore(90)\n",
    "m1.addScore(80)\n",
    "m1.addScore(88)\n",
    "m1.addClub('Arsenal')\n",
    "m1.addClub('Liverpool')"
   ]
  },
  {
   "cell_type": "code",
   "execution_count": 114,
   "metadata": {},
   "outputs": [
    {
     "name": "stdout",
     "output_type": "stream",
     "text": [
      "Name Sues, 22 years old and the major is Informatic and honor status True\n",
      "Club:  ['Arsenal', 'Liverpool']\n",
      "Score:  {80, 90, 88}\n"
     ]
    }
   ],
   "source": [
    "m1.printData()"
   ]
  },
  {
   "cell_type": "code",
   "execution_count": 115,
   "metadata": {},
   "outputs": [],
   "source": [
    "#list of dictionary\n",
    "students = [\n",
    "    {'name':'irwan', 'age':20, 'club':['A','B']},\n",
    "    {'name':'afan', 'age':23, 'club':['C','B']},\n",
    "    {'name':'mohamad', 'age':21, 'club':['D','E']},\n",
    "]"
   ]
  },
  {
   "cell_type": "code",
   "execution_count": 116,
   "metadata": {},
   "outputs": [],
   "source": [
    "#function to create the array of object from array of dictionary\n",
    "def getStudents(std):\n",
    "    student_list= []\n",
    "    for s in std:\n",
    "        if 'name' not in s or 'age' not in s: #if name and score not in s(dictionary), the object can not be created\n",
    "            continue\n",
    "        st = mahasiswa(s['name'],s['age'])\n",
    "        if 'club' in s:\n",
    "            for i in s['club']:\n",
    "                st.addClub(i)\n",
    "        student_list.append(st)\n",
    "    return student_list"
   ]
  },
  {
   "cell_type": "code",
   "execution_count": 117,
   "metadata": {},
   "outputs": [],
   "source": [
    "dataStudent = getStudents(students)"
   ]
  },
  {
   "cell_type": "code",
   "execution_count": 118,
   "metadata": {},
   "outputs": [
    {
     "name": "stdout",
     "output_type": "stream",
     "text": [
      "Name irwan, 20 years old and the major is informatic and honor status False\n",
      "Club:  ['A', 'B']\n",
      "Score:  set()\n",
      "Name afan, 23 years old and the major is informatic and honor status False\n",
      "Club:  ['C', 'B']\n",
      "Score:  set()\n",
      "Name mohamad, 21 years old and the major is informatic and honor status False\n",
      "Club:  ['D', 'E']\n",
      "Score:  set()\n"
     ]
    }
   ],
   "source": [
    "for data in dataStudent:\n",
    "    data.printData()"
   ]
  }
 ],
 "metadata": {
  "kernelspec": {
   "display_name": "Python 3",
   "language": "python",
   "name": "python3"
  },
  "language_info": {
   "codemirror_mode": {
    "name": "ipython",
    "version": 3
   },
   "file_extension": ".py",
   "mimetype": "text/x-python",
   "name": "python",
   "nbconvert_exporter": "python",
   "pygments_lexer": "ipython3",
   "version": "3.7.6"
  }
 },
 "nbformat": 4,
 "nbformat_minor": 2
}

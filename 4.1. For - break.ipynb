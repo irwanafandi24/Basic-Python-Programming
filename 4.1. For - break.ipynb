{
 "cells": [
  {
   "cell_type": "code",
   "execution_count": 20,
   "metadata": {},
   "outputs": [],
   "source": [
    "student = ['Najwa','Abdullah','Irwan','Mumtaz','Mohamad']"
   ]
  },
  {
   "cell_type": "code",
   "execution_count": 21,
   "metadata": {},
   "outputs": [
    {
     "name": "stdout",
     "output_type": "stream",
     "text": [
      "Najwa\n",
      "Abdullah\n",
      "Irwan\n",
      "Mumtaz\n",
      "Mohamad\n"
     ]
    }
   ],
   "source": [
    "for val in student: # val will access the value of arr student start from idx 0 till end\n",
    "    print(val)"
   ]
  },
  {
   "cell_type": "code",
   "execution_count": 22,
   "metadata": {},
   "outputs": [
    {
     "name": "stdout",
     "output_type": "stream",
     "text": [
      "55\n"
     ]
    }
   ],
   "source": [
    "num = [1,2,3,4,5,6,7,8,9,10]\n",
    "total = 0\n",
    "for i in num: #same with difinition above\n",
    "    total = total + i #it will sum all value inside array\n",
    "print(total)"
   ]
  },
  {
   "cell_type": "code",
   "execution_count": 23,
   "metadata": {},
   "outputs": [
    {
     "name": "stdout",
     "output_type": "stream",
     "text": [
      "The length of array number is : 10\n"
     ]
    }
   ],
   "source": [
    "x = 0\n",
    "for i in num :\n",
    "    x+=1 #like count the len for the array :v\n",
    "print('The length of array number is : '+str(x))"
   ]
  },
  {
   "cell_type": "code",
   "execution_count": 24,
   "metadata": {},
   "outputs": [
    {
     "data": {
      "text/plain": [
       "range(0, 5)"
      ]
     },
     "execution_count": 24,
     "metadata": {},
     "output_type": "execute_result"
    }
   ],
   "source": [
    "range(5) #will return array value start from 0 till n-1"
   ]
  },
  {
   "cell_type": "code",
   "execution_count": 25,
   "metadata": {},
   "outputs": [
    {
     "name": "stdout",
     "output_type": "stream",
     "text": [
      "0\n",
      "1\n",
      "2\n",
      "3\n",
      "4\n"
     ]
    }
   ],
   "source": [
    "for i in range(5): #looping for start from 0 till 5-1\n",
    "    print(i)"
   ]
  },
  {
   "cell_type": "code",
   "execution_count": 27,
   "metadata": {},
   "outputs": [
    {
     "name": "stdout",
     "output_type": "stream",
     "text": [
      "2\n",
      "3\n",
      "4\n"
     ]
    }
   ],
   "source": [
    "for i in range (2,5): #looping for start from 2 until 5-1\n",
    "    print(i)"
   ]
  },
  {
   "cell_type": "code",
   "execution_count": 28,
   "metadata": {},
   "outputs": [
    {
     "name": "stdout",
     "output_type": "stream",
     "text": [
      "2\n",
      "4\n",
      "6\n",
      "8\n",
      "10\n",
      "12\n",
      "14\n",
      "16\n",
      "18\n"
     ]
    }
   ],
   "source": [
    "for i in range (2,20,2): #looping for start from 2 until 20-1 but increment by 2\n",
    "    print(i)"
   ]
  },
  {
   "cell_type": "code",
   "execution_count": 29,
   "metadata": {},
   "outputs": [
    {
     "name": "stdout",
     "output_type": "stream",
     "text": [
      "val A has value: 90\n",
      "val B has value: 98\n",
      "val C has value: 88\n"
     ]
    }
   ],
   "source": [
    "data = {\n",
    "    'a':90,\n",
    "    'b':98,\n",
    "    'c':88\n",
    "}\n",
    "for i in data: #loop on dictionary\n",
    "    print ('val '+i.capitalize()+' has value: '+str(data[i])) \n",
    "    #remember how to access the dict, i will return the key and data[i] like data[a] return the value"
   ]
  },
  {
   "cell_type": "code",
   "execution_count": 30,
   "metadata": {},
   "outputs": [
    {
     "name": "stdout",
     "output_type": "stream",
     "text": [
      "A\n",
      "B\n",
      "C\n"
     ]
    }
   ],
   "source": [
    "for i in data.keys(): #get the key only\n",
    "    print(i.capitalize())"
   ]
  },
  {
   "cell_type": "code",
   "execution_count": 31,
   "metadata": {},
   "outputs": [
    {
     "name": "stdout",
     "output_type": "stream",
     "text": [
      "90\n",
      "98\n",
      "88\n"
     ]
    }
   ],
   "source": [
    "for i in data.values(): #get the value\n",
    "    print(i)"
   ]
  },
  {
   "cell_type": "code",
   "execution_count": 32,
   "metadata": {},
   "outputs": [
    {
     "name": "stdout",
     "output_type": "stream",
     "text": [
      "('a', 90)\n",
      "('b', 98)\n",
      "('c', 88)\n"
     ]
    }
   ],
   "source": [
    "for i in data.items(): #get the couple of key and its value\n",
    "    print(i)"
   ]
  },
  {
   "cell_type": "code",
   "execution_count": 33,
   "metadata": {},
   "outputs": [
    {
     "name": "stdout",
     "output_type": "stream",
     "text": [
      "The key is a with value: 90\n",
      "The key is b with value: 98\n",
      "The key is c with value: 88\n"
     ]
    }
   ],
   "source": [
    "for key, value in data.items(): #dat.items() return 2 value that is key and value. If just data, it gonna be error\n",
    "    print('The key is '+key+' with value: '+str(value))"
   ]
  },
  {
   "cell_type": "code",
   "execution_count": 34,
   "metadata": {},
   "outputs": [
    {
     "name": "stdout",
     "output_type": "stream",
     "text": [
      "0\n",
      "1\n",
      "2\n",
      "3\n",
      "4\n",
      "5\n",
      "6\n"
     ]
    }
   ],
   "source": [
    "#break in the looping\n",
    "for i in range(10):\n",
    "    if i > 6:\n",
    "        break #break will make the looping directly stop\n",
    "    print(i)"
   ]
  },
  {
   "cell_type": "code",
   "execution_count": 35,
   "metadata": {},
   "outputs": [
    {
     "name": "stdout",
     "output_type": "stream",
     "text": [
      "mtk dengan nilai:  90\n",
      "bi dengan nilai:  86\n",
      "pkn dengan nilai:  92\n",
      "Anda harus remidi pelajaran: olahraga karena nilai anda hanya:  65\n"
     ]
    }
   ],
   "source": [
    "std = {\n",
    "    \"mtk\":90,\n",
    "    \"bi\": 86,\n",
    "    \"pkn\":92,  \n",
    "    \"olahraga\":65,\n",
    "    \"kimia\":70,\n",
    "    \"s\": 60\n",
    "}\n",
    "\n",
    "for x in std:\n",
    "    if std[x]<70: #another example of break with condition\n",
    "        print(\"Anda harus remidi pelajaran: \"+x+\" karena nilai anda hanya: \",std[x])\n",
    "        break\n",
    "    else:\n",
    "        print(x+\" dengan nilai: \", std[x])"
   ]
  },
  {
   "cell_type": "code",
   "execution_count": 36,
   "metadata": {},
   "outputs": [
    {
     "name": "stdout",
     "output_type": "stream",
     "text": [
      "uber\n",
      "nebeng\n",
      "grab\n"
     ]
    }
   ],
   "source": [
    "#continue\n",
    "online = [\"uber\",\"gojek\",\"nebeng\",\"grab\"]\n",
    "for i in online:\n",
    "    if i == \"gojek\":\n",
    "        continue #continue like we skip the instruction bellow this code, so directly to another index\n",
    "    print(i)"
   ]
  },
  {
   "cell_type": "code",
   "execution_count": 37,
   "metadata": {},
   "outputs": [
    {
     "name": "stdout",
     "output_type": "stream",
     "text": [
      "Even number:  1\n",
      "Even number:  3\n",
      "Even number:  5\n",
      "Even number:  7\n",
      "Even number:  9\n"
     ]
    }
   ],
   "source": [
    "for i in range (0,10):\n",
    "    if i%2 == 0: #another example for continue statement\n",
    "        continue\n",
    "    print(\"Even number: \", i)"
   ]
  },
  {
   "cell_type": "code",
   "execution_count": 38,
   "metadata": {},
   "outputs": [
    {
     "name": "stdout",
     "output_type": "stream",
     "text": [
      "0 . a\n",
      "0 . b\n",
      "0 . c\n",
      "0 . d\n",
      "1 . a\n",
      "1 . b\n",
      "1 . c\n",
      "1 . d\n",
      "2 . a\n",
      "2 . b\n",
      "2 . c\n",
      "2 . d\n",
      "3 . a\n",
      "3 . b\n",
      "3 . c\n",
      "3 . d\n",
      "4 . a\n",
      "4 . b\n",
      "4 . c\n",
      "4 . d\n"
     ]
    }
   ],
   "source": [
    "for i in range (0,5): #this is the nasted loop\n",
    "    for j in ['a','b','c','d']: #analogy: i then do all j, i2 then do all j again until all i\n",
    "        print(i,'. '+j)"
   ]
  },
  {
   "cell_type": "code",
   "execution_count": 39,
   "metadata": {},
   "outputs": [
    {
     "name": "stdout",
     "output_type": "stream",
     "text": [
      "0\n",
      "1\n",
      "2\n",
      "3\n",
      "4\n",
      "iteration done\n"
     ]
    }
   ],
   "source": [
    "for i in range (5):\n",
    "    print(i)\n",
    "else:\n",
    "    print('iteration done') "
   ]
  },
  {
   "cell_type": "code",
   "execution_count": 40,
   "metadata": {},
   "outputs": [
    {
     "name": "stdout",
     "output_type": "stream",
     "text": [
      "The high of pyramid: 10\n",
      "        *\n",
      "       ***\n",
      "      *****\n",
      "     *******\n",
      "    *********\n",
      "   ***********\n",
      "  *************\n",
      " ***************\n",
      "*****************\n"
     ]
    }
   ],
   "source": [
    "num = int(input(\"The high of pyramid: \"))\n",
    "for i in range (1,num):\n",
    "    for j in range (num-1-i,0,-1):\n",
    "        print(' ',end = '')\n",
    "    for k in range (i):\n",
    "        print('*',end = '')\n",
    "    if i != 1:\n",
    "        for l in range (i-1):\n",
    "            print('*',end = '')\n",
    "    print()"
   ]
  }
 ],
 "metadata": {
  "kernelspec": {
   "display_name": "Python 3",
   "language": "python",
   "name": "python3"
  },
  "language_info": {
   "codemirror_mode": {
    "name": "ipython",
    "version": 3
   },
   "file_extension": ".py",
   "mimetype": "text/x-python",
   "name": "python",
   "nbconvert_exporter": "python",
   "pygments_lexer": "ipython3",
   "version": "3.7.6"
  }
 },
 "nbformat": 4,
 "nbformat_minor": 2
}
